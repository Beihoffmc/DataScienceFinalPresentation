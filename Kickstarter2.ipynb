{
 "cells": [
  {
   "cell_type": "markdown",
   "metadata": {},
   "source": [
    "# Kickstarter Data Analysis\n",
    "## Athly Sabish\n",
    "## Max Beihoff\n",
    "### 17 October, 2019"
   ]
  },
  {
   "cell_type": "markdown",
   "metadata": {},
   "source": [
    "## Introduction\n",
    "For this project we are looking at a data set of 300,000+ Kickstarter projects. We would like to find out if there are any variables that will help predict if the project will be successful or not.\n",
    "\n",
    "## Hypothesis\n",
    "We hypothesize that the `goal` and `main category` will be the best predictors in determining if a project will be successful or not."
   ]
  },
  {
   "cell_type": "markdown",
   "metadata": {},
   "source": [
    "## Data Set\n",
    "* The data set was scraped from Kickstarter between 2012 and 2018"
   ]
  },
  {
   "cell_type": "code",
   "execution_count": 1,
   "metadata": {},
   "outputs": [
    {
     "name": "stderr",
     "output_type": "stream",
     "text": [
      "c:\\python37\\lib\\site-packages\\matplotlib\\__init__.py:886: MatplotlibDeprecationWarning: \n",
      "examples.directory is deprecated; in the future, examples will be found relative to the 'datapath' directory.\n",
      "  \"found relative to the 'datapath' directory.\".format(key))\n"
     ]
    }
   ],
   "source": [
    "import numpy as np\n",
    "import pandas as pd\n",
    "import datetime as dt\n",
    "import scipy.stats as stats\n",
    "import matplotlib.pyplot as plt\n",
    "import seaborn as sns\n",
    "from datetime import date as date\n",
    "\n",
    "from sklearn.linear_model import SGDClassifier\n",
    "from sklearn.metrics import accuracy_score\n",
    "from sklearn.metrics import confusion_matrix\n",
    "from sklearn.metrics import log_loss\n",
    "from sklearn.linear_model import SGDRegressor\n",
    "from sklearn.metrics import mean_squared_error\n",
    "from sklearn.model_selection import train_test_split\n",
    "from sklearn.impute import SimpleImputer\n",
    "from sklearn.preprocessing import LabelEncoder\n",
    "from sklearn.preprocessing import StandardScaler\n",
    "from sklearn.metrics import roc_curve\n",
    "\n",
    "%matplotlib inline"
   ]
  },
  {
   "cell_type": "code",
   "execution_count": 2,
   "metadata": {},
   "outputs": [],
   "source": [
    "raw_data = pd.read_csv(\"./kickstarter-projects/ks-projects-2018.csv\")"
   ]
  },
  {
   "cell_type": "code",
   "execution_count": 3,
   "metadata": {},
   "outputs": [
    {
     "data": {
      "text/html": [
       "<div>\n",
       "<style scoped>\n",
       "    .dataframe tbody tr th:only-of-type {\n",
       "        vertical-align: middle;\n",
       "    }\n",
       "\n",
       "    .dataframe tbody tr th {\n",
       "        vertical-align: top;\n",
       "    }\n",
       "\n",
       "    .dataframe thead th {\n",
       "        text-align: right;\n",
       "    }\n",
       "</style>\n",
       "<table border=\"1\" class=\"dataframe\">\n",
       "  <thead>\n",
       "    <tr style=\"text-align: right;\">\n",
       "      <th></th>\n",
       "      <th>ID</th>\n",
       "      <th>name</th>\n",
       "      <th>category</th>\n",
       "      <th>main_category</th>\n",
       "      <th>currency</th>\n",
       "      <th>deadline</th>\n",
       "      <th>goal</th>\n",
       "      <th>launched</th>\n",
       "      <th>pledged</th>\n",
       "      <th>state</th>\n",
       "      <th>backers</th>\n",
       "      <th>country</th>\n",
       "      <th>usd pledged</th>\n",
       "      <th>usd_pledged_real</th>\n",
       "      <th>usd_goal_real</th>\n",
       "    </tr>\n",
       "  </thead>\n",
       "  <tbody>\n",
       "    <tr>\n",
       "      <td>0</td>\n",
       "      <td>1000002330</td>\n",
       "      <td>The Songs of Adelaide &amp; Abullah</td>\n",
       "      <td>Poetry</td>\n",
       "      <td>Publishing</td>\n",
       "      <td>GBP</td>\n",
       "      <td>2015-10-09</td>\n",
       "      <td>1000.0</td>\n",
       "      <td>2015-08-11 12:12:28</td>\n",
       "      <td>0.0</td>\n",
       "      <td>failed</td>\n",
       "      <td>0</td>\n",
       "      <td>GB</td>\n",
       "      <td>0.0</td>\n",
       "      <td>0.0</td>\n",
       "      <td>1533.95</td>\n",
       "    </tr>\n",
       "    <tr>\n",
       "      <td>1</td>\n",
       "      <td>1000003930</td>\n",
       "      <td>Greeting From Earth: ZGAC Arts Capsule For ET</td>\n",
       "      <td>Narrative Film</td>\n",
       "      <td>Film &amp; Video</td>\n",
       "      <td>USD</td>\n",
       "      <td>2017-11-01</td>\n",
       "      <td>30000.0</td>\n",
       "      <td>2017-09-02 04:43:57</td>\n",
       "      <td>2421.0</td>\n",
       "      <td>failed</td>\n",
       "      <td>15</td>\n",
       "      <td>US</td>\n",
       "      <td>100.0</td>\n",
       "      <td>2421.0</td>\n",
       "      <td>30000.00</td>\n",
       "    </tr>\n",
       "    <tr>\n",
       "      <td>2</td>\n",
       "      <td>1000004038</td>\n",
       "      <td>Where is Hank?</td>\n",
       "      <td>Narrative Film</td>\n",
       "      <td>Film &amp; Video</td>\n",
       "      <td>USD</td>\n",
       "      <td>2013-02-26</td>\n",
       "      <td>45000.0</td>\n",
       "      <td>2013-01-12 00:20:50</td>\n",
       "      <td>220.0</td>\n",
       "      <td>failed</td>\n",
       "      <td>3</td>\n",
       "      <td>US</td>\n",
       "      <td>220.0</td>\n",
       "      <td>220.0</td>\n",
       "      <td>45000.00</td>\n",
       "    </tr>\n",
       "    <tr>\n",
       "      <td>3</td>\n",
       "      <td>1000007540</td>\n",
       "      <td>ToshiCapital Rekordz Needs Help to Complete Album</td>\n",
       "      <td>Music</td>\n",
       "      <td>Music</td>\n",
       "      <td>USD</td>\n",
       "      <td>2012-04-16</td>\n",
       "      <td>5000.0</td>\n",
       "      <td>2012-03-17 03:24:11</td>\n",
       "      <td>1.0</td>\n",
       "      <td>failed</td>\n",
       "      <td>1</td>\n",
       "      <td>US</td>\n",
       "      <td>1.0</td>\n",
       "      <td>1.0</td>\n",
       "      <td>5000.00</td>\n",
       "    </tr>\n",
       "    <tr>\n",
       "      <td>4</td>\n",
       "      <td>1000011046</td>\n",
       "      <td>Community Film Project: The Art of Neighborhoo...</td>\n",
       "      <td>Film &amp; Video</td>\n",
       "      <td>Film &amp; Video</td>\n",
       "      <td>USD</td>\n",
       "      <td>2015-08-29</td>\n",
       "      <td>19500.0</td>\n",
       "      <td>2015-07-04 08:35:03</td>\n",
       "      <td>1283.0</td>\n",
       "      <td>canceled</td>\n",
       "      <td>14</td>\n",
       "      <td>US</td>\n",
       "      <td>1283.0</td>\n",
       "      <td>1283.0</td>\n",
       "      <td>19500.00</td>\n",
       "    </tr>\n",
       "  </tbody>\n",
       "</table>\n",
       "</div>"
      ],
      "text/plain": [
       "           ID                                               name  \\\n",
       "0  1000002330                    The Songs of Adelaide & Abullah   \n",
       "1  1000003930      Greeting From Earth: ZGAC Arts Capsule For ET   \n",
       "2  1000004038                                     Where is Hank?   \n",
       "3  1000007540  ToshiCapital Rekordz Needs Help to Complete Album   \n",
       "4  1000011046  Community Film Project: The Art of Neighborhoo...   \n",
       "\n",
       "         category main_category currency    deadline     goal  \\\n",
       "0          Poetry    Publishing      GBP  2015-10-09   1000.0   \n",
       "1  Narrative Film  Film & Video      USD  2017-11-01  30000.0   \n",
       "2  Narrative Film  Film & Video      USD  2013-02-26  45000.0   \n",
       "3           Music         Music      USD  2012-04-16   5000.0   \n",
       "4    Film & Video  Film & Video      USD  2015-08-29  19500.0   \n",
       "\n",
       "              launched  pledged     state  backers country  usd pledged  \\\n",
       "0  2015-08-11 12:12:28      0.0    failed        0      GB          0.0   \n",
       "1  2017-09-02 04:43:57   2421.0    failed       15      US        100.0   \n",
       "2  2013-01-12 00:20:50    220.0    failed        3      US        220.0   \n",
       "3  2012-03-17 03:24:11      1.0    failed        1      US          1.0   \n",
       "4  2015-07-04 08:35:03   1283.0  canceled       14      US       1283.0   \n",
       "\n",
       "   usd_pledged_real  usd_goal_real  \n",
       "0               0.0        1533.95  \n",
       "1            2421.0       30000.00  \n",
       "2             220.0       45000.00  \n",
       "3               1.0        5000.00  \n",
       "4            1283.0       19500.00  "
      ]
     },
     "execution_count": 3,
     "metadata": {},
     "output_type": "execute_result"
    }
   ],
   "source": [
    "raw_data.head()"
   ]
  },
  {
   "cell_type": "code",
   "execution_count": 4,
   "metadata": {},
   "outputs": [
    {
     "data": {
      "text/plain": [
       "ID                    int64\n",
       "name                 object\n",
       "category             object\n",
       "main_category        object\n",
       "currency             object\n",
       "deadline             object\n",
       "goal                float64\n",
       "launched             object\n",
       "pledged             float64\n",
       "state                object\n",
       "backers               int64\n",
       "country              object\n",
       "usd pledged         float64\n",
       "usd_pledged_real    float64\n",
       "usd_goal_real       float64\n",
       "dtype: object"
      ]
     },
     "execution_count": 4,
     "metadata": {},
     "output_type": "execute_result"
    }
   ],
   "source": [
    "raw_data.dtypes"
   ]
  },
  {
   "cell_type": "markdown",
   "metadata": {},
   "source": [
    "## Data Preprocessing"
   ]
  },
  {
   "cell_type": "markdown",
   "metadata": {},
   "source": [
    "* We drop the columns that are duplicates or uneccessary to our analysis"
   ]
  },
  {
   "cell_type": "code",
   "execution_count": 5,
   "metadata": {},
   "outputs": [],
   "source": [
    "raw_data = raw_data.drop(['goal','pledged','usd pledged','ID','name','category'],axis=1)"
   ]
  },
  {
   "cell_type": "markdown",
   "metadata": {},
   "source": [
    "### Main Category types"
   ]
  },
  {
   "cell_type": "code",
   "execution_count": 6,
   "metadata": {
    "scrolled": true
   },
   "outputs": [
    {
     "data": {
      "text/plain": [
       "Film & Video    63585\n",
       "Music           51918\n",
       "Publishing      39874\n",
       "Games           35231\n",
       "Technology      32569\n",
       "Design          30070\n",
       "Art             28153\n",
       "Food            24602\n",
       "Fashion         22816\n",
       "Theater         10913\n",
       "Comics          10819\n",
       "Photography     10779\n",
       "Crafts           8809\n",
       "Journalism       4755\n",
       "Dance            3768\n",
       "dtype: int64"
      ]
     },
     "execution_count": 6,
     "metadata": {},
     "output_type": "execute_result"
    }
   ],
   "source": [
    "pd.value_counts(raw_data[\"main_category\"].values)"
   ]
  },
  {
   "cell_type": "markdown",
   "metadata": {},
   "source": [
    "### Currency types"
   ]
  },
  {
   "cell_type": "code",
   "execution_count": 7,
   "metadata": {
    "scrolled": true
   },
   "outputs": [
    {
     "data": {
      "text/plain": [
       "USD    295365\n",
       "GBP     34132\n",
       "EUR     17405\n",
       "CAD     14962\n",
       "AUD      7950\n",
       "SEK      1788\n",
       "MXN      1752\n",
       "NZD      1475\n",
       "DKK      1129\n",
       "CHF       768\n",
       "NOK       722\n",
       "HKD       618\n",
       "SGD       555\n",
       "JPY        40\n",
       "dtype: int64"
      ]
     },
     "execution_count": 7,
     "metadata": {},
     "output_type": "execute_result"
    }
   ],
   "source": [
    "pd.value_counts(raw_data[\"currency\"].values)"
   ]
  },
  {
   "cell_type": "markdown",
   "metadata": {},
   "source": [
    "## State Types"
   ]
  },
  {
   "cell_type": "code",
   "execution_count": 8,
   "metadata": {},
   "outputs": [
    {
     "data": {
      "text/plain": [
       "failed        197719\n",
       "successful    133956\n",
       "canceled       38779\n",
       "undefined       3562\n",
       "live            2799\n",
       "suspended       1846\n",
       "dtype: int64"
      ]
     },
     "execution_count": 8,
     "metadata": {},
     "output_type": "execute_result"
    }
   ],
   "source": [
    "pd.value_counts(raw_data[\"state\"].values)"
   ]
  },
  {
   "cell_type": "markdown",
   "metadata": {},
   "source": [
    "## Country Types"
   ]
  },
  {
   "cell_type": "code",
   "execution_count": 9,
   "metadata": {},
   "outputs": [
    {
     "data": {
      "text/plain": [
       "US      292627\n",
       "GB       33672\n",
       "CA       14756\n",
       "AU        7839\n",
       "DE        4171\n",
       "N,0\"      3797\n",
       "FR        2939\n",
       "IT        2878\n",
       "NL        2868\n",
       "ES        2276\n",
       "SE        1757\n",
       "MX        1752\n",
       "NZ        1447\n",
       "DK        1113\n",
       "IE         811\n",
       "CH         761\n",
       "NO         708\n",
       "HK         618\n",
       "BE         617\n",
       "AT         597\n",
       "SG         555\n",
       "LU          62\n",
       "JP          40\n",
       "dtype: int64"
      ]
     },
     "execution_count": 9,
     "metadata": {},
     "output_type": "execute_result"
    }
   ],
   "source": [
    "pd.value_counts(raw_data[\"country\"].values)"
   ]
  },
  {
   "cell_type": "code",
   "execution_count": 10,
   "metadata": {},
   "outputs": [],
   "source": [
    "raw_data[\"main_category\"] = raw_data[\"main_category\"].astype(\"category\")"
   ]
  },
  {
   "cell_type": "code",
   "execution_count": 11,
   "metadata": {},
   "outputs": [],
   "source": [
    "raw_data[\"currency\"] = raw_data[\"currency\"].astype(\"category\").head()"
   ]
  },
  {
   "cell_type": "code",
   "execution_count": 12,
   "metadata": {},
   "outputs": [],
   "source": [
    "raw_data[\"country\"] = raw_data[\"country\"].astype(\"category\").head()"
   ]
  },
  {
   "cell_type": "markdown",
   "metadata": {},
   "source": [
    "Convert dates in launched and deadline categories to datetime datatypes."
   ]
  },
  {
   "cell_type": "code",
   "execution_count": 13,
   "metadata": {},
   "outputs": [
    {
     "data": {
      "text/plain": [
       "str"
      ]
     },
     "execution_count": 13,
     "metadata": {},
     "output_type": "execute_result"
    }
   ],
   "source": [
    "type(raw_data[\"deadline\"][0])"
   ]
  },
  {
   "cell_type": "code",
   "execution_count": 14,
   "metadata": {},
   "outputs": [
    {
     "data": {
      "text/plain": [
       "0    2015-10-09\n",
       "1    2017-11-01\n",
       "2    2013-02-26\n",
       "3    2012-04-16\n",
       "4    2015-08-29\n",
       "Name: deadline, dtype: object"
      ]
     },
     "execution_count": 14,
     "metadata": {},
     "output_type": "execute_result"
    }
   ],
   "source": [
    "raw_data[\"deadline\"].head()"
   ]
  },
  {
   "cell_type": "code",
   "execution_count": 15,
   "metadata": {},
   "outputs": [
    {
     "data": {
      "text/plain": [
       "0    2015-08-11 12:12:28\n",
       "1    2017-09-02 04:43:57\n",
       "2    2013-01-12 00:20:50\n",
       "3    2012-03-17 03:24:11\n",
       "4    2015-07-04 08:35:03\n",
       "Name: launched, dtype: object"
      ]
     },
     "execution_count": 15,
     "metadata": {},
     "output_type": "execute_result"
    }
   ],
   "source": [
    "raw_data[\"launched\"].head()"
   ]
  },
  {
   "cell_type": "code",
   "execution_count": 16,
   "metadata": {},
   "outputs": [
    {
     "data": {
      "text/plain": [
       "datetime.datetime(2015, 10, 9, 0, 0)"
      ]
     },
     "execution_count": 16,
     "metadata": {},
     "output_type": "execute_result"
    }
   ],
   "source": [
    "date_format =\"%Y-%m-%d\"\n",
    "dt.datetime.strptime(raw_data[\"deadline\"][0], date_format)"
   ]
  },
  {
   "cell_type": "code",
   "execution_count": 17,
   "metadata": {},
   "outputs": [
    {
     "data": {
      "text/plain": [
       "0   2015-10-09\n",
       "1   2017-11-01\n",
       "2   2013-02-26\n",
       "3   2012-04-16\n",
       "4   2015-08-29\n",
       "Name: deadline, dtype: datetime64[ns]"
      ]
     },
     "execution_count": 17,
     "metadata": {},
     "output_type": "execute_result"
    }
   ],
   "source": [
    "converted_deadlines = raw_data[\"deadline\"].map(lambda s: dt.datetime.strptime(s, date_format))\n",
    "converted_deadlines.head()"
   ]
  },
  {
   "cell_type": "code",
   "execution_count": 18,
   "metadata": {},
   "outputs": [
    {
     "data": {
      "text/plain": [
       "datetime.datetime(2015, 8, 11, 12, 12, 28)"
      ]
     },
     "execution_count": 18,
     "metadata": {},
     "output_type": "execute_result"
    }
   ],
   "source": [
    "date_format =\"%Y-%m-%d %H:%M:%S\"\n",
    "dt.datetime.strptime(raw_data[\"launched\"][0], date_format)"
   ]
  },
  {
   "cell_type": "code",
   "execution_count": 19,
   "metadata": {
    "scrolled": false
   },
   "outputs": [
    {
     "data": {
      "text/plain": [
       "0   2015-08-11 12:12:28\n",
       "1   2017-09-02 04:43:57\n",
       "2   2013-01-12 00:20:50\n",
       "3   2012-03-17 03:24:11\n",
       "4   2015-07-04 08:35:03\n",
       "Name: launched, dtype: datetime64[ns]"
      ]
     },
     "execution_count": 19,
     "metadata": {},
     "output_type": "execute_result"
    }
   ],
   "source": [
    "converted_launches = raw_data[\"launched\"].map(lambda s: dt.datetime.strptime(s, date_format))\n",
    "converted_launches.head()"
   ]
  },
  {
   "cell_type": "code",
   "execution_count": 20,
   "metadata": {
    "scrolled": true
   },
   "outputs": [
    {
     "data": {
      "text/plain": [
       "<bound method IndexOpsMixin.value_counts of 0             failed\n",
       "1             failed\n",
       "2             failed\n",
       "3             failed\n",
       "5         successful\n",
       "             ...    \n",
       "378654        failed\n",
       "378657        failed\n",
       "378658        failed\n",
       "378659        failed\n",
       "378660        failed\n",
       "Name: state, Length: 331675, dtype: object>"
      ]
     },
     "execution_count": 20,
     "metadata": {},
     "output_type": "execute_result"
    }
   ],
   "source": [
    "dataDF = raw_data[raw_data[\"state\"].isin([\"successful\", \"failed\"])]\n",
    "dataDF[\"state\"].value_counts"
   ]
  },
  {
   "cell_type": "code",
   "execution_count": 21,
   "metadata": {},
   "outputs": [
    {
     "name": "stderr",
     "output_type": "stream",
     "text": [
      "c:\\python37\\lib\\site-packages\\ipykernel_launcher.py:1: SettingWithCopyWarning: \n",
      "A value is trying to be set on a copy of a slice from a DataFrame.\n",
      "Try using .loc[row_indexer,col_indexer] = value instead\n",
      "\n",
      "See the caveats in the documentation: http://pandas.pydata.org/pandas-docs/stable/user_guide/indexing.html#returning-a-view-versus-a-copy\n",
      "  \"\"\"Entry point for launching an IPython kernel.\n"
     ]
    }
   ],
   "source": [
    "dataDF[\"state\"] = dataDF[\"state\"].astype(\"category\")"
   ]
  },
  {
   "cell_type": "markdown",
   "metadata": {},
   "source": [
    "## Analyze the data and variable relationships"
   ]
  },
  {
   "cell_type": "markdown",
   "metadata": {},
   "source": [
    "### Goal vs Pledged\n",
    "We can see that the high goals have low pledges, while low goals have high pledges."
   ]
  },
  {
   "cell_type": "code",
   "execution_count": 22,
   "metadata": {
    "scrolled": true
   },
   "outputs": [
    {
     "data": {
      "text/plain": [
       "<matplotlib.axes._subplots.AxesSubplot at 0x17a6e3bc088>"
      ]
     },
     "execution_count": 22,
     "metadata": {},
     "output_type": "execute_result"
    },
    {
     "data": {
      "image/png": "[encoded data removed]",
      "text/plain": [
       "<Figure size 432x288 with 1 Axes>"
      ]
     },
     "metadata": {
      "needs_background": "light"
     },
     "output_type": "display_data"
    }
   ],
   "source": [
    "dataDF.plot.scatter(x=\"usd_goal_real\",y=\"usd_pledged_real\")"
   ]
  },
  {
   "cell_type": "markdown",
   "metadata": {},
   "source": [
    "### Backers vs Pledged\n",
    "There aren't many projects with over 100000 backer and we can see a large cluster of point near 0. As the the amount of backers increase the distribution of pledges fan out."
   ]
  },
  {
   "cell_type": "code",
   "execution_count": 23,
   "metadata": {},
   "outputs": [
    {
     "data": {
      "text/plain": [
       "<seaborn.axisgrid.FacetGrid at 0x17a724a4dc8>"
      ]
     },
     "execution_count": 23,
     "metadata": {},
     "output_type": "execute_result"
    },
    {
     "data": {
      "image/png": "[encoded data removed]",
      "text/plain": [
       "<Figure size 360x360 with 1 Axes>"
      ]
     },
     "metadata": {
      "needs_background": "light"
     },
     "output_type": "display_data"
    }
   ],
   "source": [
    "sns.lmplot(x='backers',y='usd_pledged_real',data=dataDF,fit_reg=True) "
   ]
  },
  {
   "cell_type": "markdown",
   "metadata": {},
   "source": [
    "### Backers vs Goal\n",
    "This scatterplot is similar to the goal vs pledged scatterplot, where projects with high goals don't get many backers."
   ]
  },
  {
   "cell_type": "code",
   "execution_count": 24,
   "metadata": {},
   "outputs": [
    {
     "data": {
      "text/plain": [
       "<matplotlib.axes._subplots.AxesSubplot at 0x17a6e46d5c8>"
      ]
     },
     "execution_count": 24,
     "metadata": {},
     "output_type": "execute_result"
    },
    {
     "data": {
      "image/png": "[encoded data removed]",
      "text/plain": [
       "<Figure size 432x288 with 1 Axes>"
      ]
     },
     "metadata": {
      "needs_background": "light"
     },
     "output_type": "display_data"
    }
   ],
   "source": [
    "dataDF.plot.scatter(x=\"backers\", y=\"usd_goal_real\")"
   ]
  },
  {
   "cell_type": "markdown",
   "metadata": {},
   "source": [
    "### Goal vs State\n",
    "A boxplot relating the state with goal. We can see a large distribution between failed goals and all successful projects have small or reasonable goals."
   ]
  },
  {
   "cell_type": "code",
   "execution_count": 25,
   "metadata": {},
   "outputs": [
    {
     "data": {
      "text/plain": [
       "<matplotlib.axes._subplots.AxesSubplot at 0x17a6e3a7948>"
      ]
     },
     "execution_count": 25,
     "metadata": {},
     "output_type": "execute_result"
    },
    {
     "data": {
      "image/png": "[encoded data removed]",
      "text/plain": [
       "<Figure size 432x288 with 1 Axes>"
      ]
     },
     "metadata": {
      "needs_background": "light"
     },
     "output_type": "display_data"
    }
   ],
   "source": [
    "dataDF[[\"state\",\"usd_goal_real\"]].boxplot(by=\"state\")"
   ]
  },
  {
   "cell_type": "markdown",
   "metadata": {},
   "source": [
    "### Category vs Goal\n",
    "We can see that most goals are clustered around a small number, while art, design, film/video, and technology have spreadout distributions. This doesn't take success or failure into account, but shows the expectations of the project owners."
   ]
  },
  {
   "cell_type": "code",
   "execution_count": 26,
   "metadata": {
    "scrolled": false
   },
   "outputs": [
    {
     "data": {
      "image/png": "[encoded data removed]",
      "text/plain": [
       "<Figure size 432x288 with 1 Axes>"
      ]
     },
     "metadata": {
      "needs_background": "light"
     },
     "output_type": "display_data"
    }
   ],
   "source": [
    "dataDF[[\"main_category\",\"usd_goal_real\"]].boxplot(by=\"main_category\")\n",
    "plt.xticks(rotation=90)\n",
    "plt.show()"
   ]
  },
  {
   "cell_type": "markdown",
   "metadata": {},
   "source": [
    "We need to count the number of successful projects and find the percentage of all projects that are successful. Then we can find which variales correlate to a high success rate."
   ]
  },
  {
   "cell_type": "code",
   "execution_count": 27,
   "metadata": {},
   "outputs": [],
   "source": [
    "def count_success(entries):\n",
    "    #print(entries)\n",
    "    successful = 0\n",
    "    for entry in entries:\n",
    "        if entry == \"successful\":\n",
    "            successful = successful+1\n",
    "    return successful/len(entries)"
   ]
  },
  {
   "cell_type": "code",
   "execution_count": 28,
   "metadata": {},
   "outputs": [
    {
     "data": {
      "text/html": [
       "<div>\n",
       "<style scoped>\n",
       "    .dataframe tbody tr th:only-of-type {\n",
       "        vertical-align: middle;\n",
       "    }\n",
       "\n",
       "    .dataframe tbody tr th {\n",
       "        vertical-align: top;\n",
       "    }\n",
       "\n",
       "    .dataframe thead th {\n",
       "        text-align: right;\n",
       "    }\n",
       "</style>\n",
       "<table border=\"1\" class=\"dataframe\">\n",
       "  <thead>\n",
       "    <tr style=\"text-align: right;\">\n",
       "      <th></th>\n",
       "      <th>main_category</th>\n",
       "      <th>percent_successful</th>\n",
       "    </tr>\n",
       "  </thead>\n",
       "  <tbody>\n",
       "    <tr>\n",
       "      <td>0</td>\n",
       "      <td>Publishing</td>\n",
       "      <td>0.347017</td>\n",
       "    </tr>\n",
       "    <tr>\n",
       "      <td>1</td>\n",
       "      <td>Film &amp; Video</td>\n",
       "      <td>0.417906</td>\n",
       "    </tr>\n",
       "    <tr>\n",
       "      <td>2</td>\n",
       "      <td>Music</td>\n",
       "      <td>0.526606</td>\n",
       "    </tr>\n",
       "    <tr>\n",
       "      <td>3</td>\n",
       "      <td>Food</td>\n",
       "      <td>0.275914</td>\n",
       "    </tr>\n",
       "    <tr>\n",
       "      <td>4</td>\n",
       "      <td>Crafts</td>\n",
       "      <td>0.270530</td>\n",
       "    </tr>\n",
       "    <tr>\n",
       "      <td>5</td>\n",
       "      <td>Games</td>\n",
       "      <td>0.438905</td>\n",
       "    </tr>\n",
       "    <tr>\n",
       "      <td>6</td>\n",
       "      <td>Design</td>\n",
       "      <td>0.415944</td>\n",
       "    </tr>\n",
       "    <tr>\n",
       "      <td>7</td>\n",
       "      <td>Comics</td>\n",
       "      <td>0.591415</td>\n",
       "    </tr>\n",
       "    <tr>\n",
       "      <td>8</td>\n",
       "      <td>Fashion</td>\n",
       "      <td>0.282832</td>\n",
       "    </tr>\n",
       "    <tr>\n",
       "      <td>9</td>\n",
       "      <td>Theater</td>\n",
       "      <td>0.637961</td>\n",
       "    </tr>\n",
       "    <tr>\n",
       "      <td>10</td>\n",
       "      <td>Art</td>\n",
       "      <td>0.448890</td>\n",
       "    </tr>\n",
       "    <tr>\n",
       "      <td>11</td>\n",
       "      <td>Photography</td>\n",
       "      <td>0.341108</td>\n",
       "    </tr>\n",
       "    <tr>\n",
       "      <td>12</td>\n",
       "      <td>Technology</td>\n",
       "      <td>0.237856</td>\n",
       "    </tr>\n",
       "    <tr>\n",
       "      <td>13</td>\n",
       "      <td>Dance</td>\n",
       "      <td>0.654352</td>\n",
       "    </tr>\n",
       "    <tr>\n",
       "      <td>14</td>\n",
       "      <td>Journalism</td>\n",
       "      <td>0.243914</td>\n",
       "    </tr>\n",
       "  </tbody>\n",
       "</table>\n",
       "</div>"
      ],
      "text/plain": [
       "   main_category  percent_successful\n",
       "0     Publishing            0.347017\n",
       "1   Film & Video            0.417906\n",
       "2          Music            0.526606\n",
       "3           Food            0.275914\n",
       "4         Crafts            0.270530\n",
       "5          Games            0.438905\n",
       "6         Design            0.415944\n",
       "7         Comics            0.591415\n",
       "8        Fashion            0.282832\n",
       "9        Theater            0.637961\n",
       "10           Art            0.448890\n",
       "11   Photography            0.341108\n",
       "12    Technology            0.237856\n",
       "13         Dance            0.654352\n",
       "14    Journalism            0.243914"
      ]
     },
     "execution_count": 28,
     "metadata": {},
     "output_type": "execute_result"
    }
   ],
   "source": [
    "grouped = dataDF[[\"main_category\", \"state\"]].groupby([\"main_category\"], as_index=False, sort=False)\n",
    "grouped = grouped.aggregate(count_success)\n",
    "grouped = grouped.rename(columns={\"state\" : \"percent_successful\"})\n",
    "grouped"
   ]
  },
  {
   "cell_type": "markdown",
   "metadata": {},
   "source": [
    "### Category vs Success Rate\n",
    "We can see that dance, theater, comics, and music have success rates over 50%, so we hypothesize those categories will have an impact on the project success. "
   ]
  },
  {
   "cell_type": "code",
   "execution_count": 29,
   "metadata": {},
   "outputs": [
    {
     "data": {
      "text/plain": [
       "<matplotlib.axes._subplots.AxesSubplot at 0x17a003083c8>"
      ]
     },
     "execution_count": 29,
     "metadata": {},
     "output_type": "execute_result"
    },
    {
     "data": {
      "image/png": "[encoded data removed]",
      "text/plain": [
       "<Figure size 432x288 with 1 Axes>"
      ]
     },
     "metadata": {
      "needs_background": "light"
     },
     "output_type": "display_data"
    }
   ],
   "source": [
    "grouped.plot.bar(x=\"main_category\", y=\"percent_successful\")"
   ]
  },
  {
   "cell_type": "markdown",
   "metadata": {},
   "source": [
    "### Heatmap of backers, pledged, and goal\n",
    "There is a strong relationship between backers and pledged, but almost no relationship between goal and pledged or backers. The amount of pledges and backers are both the results of a successful project, so assume a strong correlation."
   ]
  },
  {
   "cell_type": "code",
   "execution_count": 30,
   "metadata": {},
   "outputs": [
    {
     "data": {
      "text/plain": [
       "<matplotlib.axes._subplots.AxesSubplot at 0x17a000b9d08>"
      ]
     },
     "execution_count": 30,
     "metadata": {},
     "output_type": "execute_result"
    },
    {
     "data": {
      "image/png": "[encoded data removed]",
      "text/plain": [
       "<Figure size 720x720 with 2 Axes>"
      ]
     },
     "metadata": {
      "needs_background": "light"
     },
     "output_type": "display_data"
    }
   ],
   "source": [
    "f,ax=plt.subplots(figsize=(10,10))\n",
    "sns.heatmap(dataDF.corr(),annot=True,linewidths=.5,fmt=\".2f\",ax=ax)"
   ]
  },
  {
   "cell_type": "markdown",
   "metadata": {},
   "source": [
    "## Data Modeling and Prediction"
   ]
  },
  {
   "cell_type": "markdown",
   "metadata": {},
   "source": [
    "### Feature Extraction"
   ]
  },
  {
   "cell_type": "markdown",
   "metadata": {},
   "source": [
    "Create a list of dummy variablese for each categorical variable."
   ]
  },
  {
   "cell_type": "code",
   "execution_count": 31,
   "metadata": {},
   "outputs": [
    {
     "data": {
      "text/html": [
       "<div>\n",
       "<style scoped>\n",
       "    .dataframe tbody tr th:only-of-type {\n",
       "        vertical-align: middle;\n",
       "    }\n",
       "\n",
       "    .dataframe tbody tr th {\n",
       "        vertical-align: top;\n",
       "    }\n",
       "\n",
       "    .dataframe thead th {\n",
       "        text-align: right;\n",
       "    }\n",
       "</style>\n",
       "<table border=\"1\" class=\"dataframe\">\n",
       "  <thead>\n",
       "    <tr style=\"text-align: right;\">\n",
       "      <th></th>\n",
       "      <th>main_category</th>\n",
       "      <th>currency</th>\n",
       "      <th>deadline</th>\n",
       "      <th>launched</th>\n",
       "      <th>state</th>\n",
       "      <th>backers</th>\n",
       "      <th>country</th>\n",
       "      <th>usd_pledged_real</th>\n",
       "      <th>usd_goal_real</th>\n",
       "      <th>main_category_Art</th>\n",
       "      <th>...</th>\n",
       "      <th>country_JP</th>\n",
       "      <th>country_LU</th>\n",
       "      <th>country_MX</th>\n",
       "      <th>country_N,0\"</th>\n",
       "      <th>country_NL</th>\n",
       "      <th>country_NO</th>\n",
       "      <th>country_NZ</th>\n",
       "      <th>country_SE</th>\n",
       "      <th>country_SG</th>\n",
       "      <th>country_US</th>\n",
       "    </tr>\n",
       "  </thead>\n",
       "  <tbody>\n",
       "    <tr>\n",
       "      <td>0</td>\n",
       "      <td>Publishing</td>\n",
       "      <td>GBP</td>\n",
       "      <td>2015-10-09</td>\n",
       "      <td>2015-08-11 12:12:28</td>\n",
       "      <td>failed</td>\n",
       "      <td>0</td>\n",
       "      <td>GB</td>\n",
       "      <td>0.0</td>\n",
       "      <td>1533.95</td>\n",
       "      <td>0</td>\n",
       "      <td>...</td>\n",
       "      <td>0</td>\n",
       "      <td>0</td>\n",
       "      <td>0</td>\n",
       "      <td>0</td>\n",
       "      <td>0</td>\n",
       "      <td>0</td>\n",
       "      <td>0</td>\n",
       "      <td>0</td>\n",
       "      <td>0</td>\n",
       "      <td>0</td>\n",
       "    </tr>\n",
       "    <tr>\n",
       "      <td>1</td>\n",
       "      <td>Film &amp; Video</td>\n",
       "      <td>USD</td>\n",
       "      <td>2017-11-01</td>\n",
       "      <td>2017-09-02 04:43:57</td>\n",
       "      <td>failed</td>\n",
       "      <td>15</td>\n",
       "      <td>US</td>\n",
       "      <td>2421.0</td>\n",
       "      <td>30000.00</td>\n",
       "      <td>0</td>\n",
       "      <td>...</td>\n",
       "      <td>0</td>\n",
       "      <td>0</td>\n",
       "      <td>0</td>\n",
       "      <td>0</td>\n",
       "      <td>0</td>\n",
       "      <td>0</td>\n",
       "      <td>0</td>\n",
       "      <td>0</td>\n",
       "      <td>0</td>\n",
       "      <td>1</td>\n",
       "    </tr>\n",
       "    <tr>\n",
       "      <td>2</td>\n",
       "      <td>Film &amp; Video</td>\n",
       "      <td>USD</td>\n",
       "      <td>2013-02-26</td>\n",
       "      <td>2013-01-12 00:20:50</td>\n",
       "      <td>failed</td>\n",
       "      <td>3</td>\n",
       "      <td>US</td>\n",
       "      <td>220.0</td>\n",
       "      <td>45000.00</td>\n",
       "      <td>0</td>\n",
       "      <td>...</td>\n",
       "      <td>0</td>\n",
       "      <td>0</td>\n",
       "      <td>0</td>\n",
       "      <td>0</td>\n",
       "      <td>0</td>\n",
       "      <td>0</td>\n",
       "      <td>0</td>\n",
       "      <td>0</td>\n",
       "      <td>0</td>\n",
       "      <td>1</td>\n",
       "    </tr>\n",
       "    <tr>\n",
       "      <td>3</td>\n",
       "      <td>Music</td>\n",
       "      <td>USD</td>\n",
       "      <td>2012-04-16</td>\n",
       "      <td>2012-03-17 03:24:11</td>\n",
       "      <td>failed</td>\n",
       "      <td>1</td>\n",
       "      <td>US</td>\n",
       "      <td>1.0</td>\n",
       "      <td>5000.00</td>\n",
       "      <td>0</td>\n",
       "      <td>...</td>\n",
       "      <td>0</td>\n",
       "      <td>0</td>\n",
       "      <td>0</td>\n",
       "      <td>0</td>\n",
       "      <td>0</td>\n",
       "      <td>0</td>\n",
       "      <td>0</td>\n",
       "      <td>0</td>\n",
       "      <td>0</td>\n",
       "      <td>1</td>\n",
       "    </tr>\n",
       "    <tr>\n",
       "      <td>5</td>\n",
       "      <td>Food</td>\n",
       "      <td>NaN</td>\n",
       "      <td>2016-04-01</td>\n",
       "      <td>2016-02-26 13:38:27</td>\n",
       "      <td>successful</td>\n",
       "      <td>224</td>\n",
       "      <td>NaN</td>\n",
       "      <td>52375.0</td>\n",
       "      <td>50000.00</td>\n",
       "      <td>0</td>\n",
       "      <td>...</td>\n",
       "      <td>0</td>\n",
       "      <td>0</td>\n",
       "      <td>0</td>\n",
       "      <td>0</td>\n",
       "      <td>0</td>\n",
       "      <td>0</td>\n",
       "      <td>0</td>\n",
       "      <td>0</td>\n",
       "      <td>0</td>\n",
       "      <td>0</td>\n",
       "    </tr>\n",
       "  </tbody>\n",
       "</table>\n",
       "<p>5 rows × 63 columns</p>\n",
       "</div>"
      ],
      "text/plain": [
       "  main_category currency    deadline             launched       state  \\\n",
       "0    Publishing      GBP  2015-10-09  2015-08-11 12:12:28      failed   \n",
       "1  Film & Video      USD  2017-11-01  2017-09-02 04:43:57      failed   \n",
       "2  Film & Video      USD  2013-02-26  2013-01-12 00:20:50      failed   \n",
       "3         Music      USD  2012-04-16  2012-03-17 03:24:11      failed   \n",
       "5          Food      NaN  2016-04-01  2016-02-26 13:38:27  successful   \n",
       "\n",
       "   backers country  usd_pledged_real  usd_goal_real  main_category_Art  ...  \\\n",
       "0        0      GB               0.0        1533.95                  0  ...   \n",
       "1       15      US            2421.0       30000.00                  0  ...   \n",
       "2        3      US             220.0       45000.00                  0  ...   \n",
       "3        1      US               1.0        5000.00                  0  ...   \n",
       "5      224     NaN           52375.0       50000.00                  0  ...   \n",
       "\n",
       "   country_JP  country_LU  country_MX  country_N,0\"  country_NL  country_NO  \\\n",
       "0           0           0           0             0           0           0   \n",
       "1           0           0           0             0           0           0   \n",
       "2           0           0           0             0           0           0   \n",
       "3           0           0           0             0           0           0   \n",
       "5           0           0           0             0           0           0   \n",
       "\n",
       "   country_NZ  country_SE  country_SG  country_US  \n",
       "0           0           0           0           0  \n",
       "1           0           0           0           1  \n",
       "2           0           0           0           1  \n",
       "3           0           0           0           1  \n",
       "5           0           0           0           0  \n",
       "\n",
       "[5 rows x 63 columns]"
      ]
     },
     "execution_count": 31,
     "metadata": {},
     "output_type": "execute_result"
    }
   ],
   "source": [
    "cat_columns = [\"main_category\", \"currency\", \"state\", \"country\"]\n",
    "dummy_columns = {}\n",
    "\n",
    "for col in cat_columns:\n",
    "    dummies = pd.get_dummies(dataDF[col], prefix=col)\n",
    "    dummy_columns[col] = dummies.columns.values\n",
    "    dataDF = dataDF.merge(dummies, left_index=True, right_index=True)\n",
    "    \n",
    "dataDF.head()"
   ]
  },
  {
   "cell_type": "markdown",
   "metadata": {},
   "source": [
    "## Set up Experiment"
   ]
  },
  {
   "cell_type": "markdown",
   "metadata": {},
   "source": [
    "Create training and testing set."
   ]
  },
  {
   "cell_type": "code",
   "execution_count": 32,
   "metadata": {},
   "outputs": [
    {
     "name": "stdout",
     "output_type": "stream",
     "text": [
      "(331675, 63) (248756, 63) (82919, 63)\n"
     ]
    }
   ],
   "source": [
    "\n",
    "df_train, df_test = train_test_split(dataDF, stratify=dataDF[\"state\"])\n",
    "print(dataDF.shape, df_train.shape, df_test.shape)"
   ]
  },
  {
   "cell_type": "markdown",
   "metadata": {},
   "source": [
    "Use a label encoder to create a training and testing set of just the states of the projects for the base model."
   ]
  },
  {
   "cell_type": "code",
   "execution_count": 33,
   "metadata": {},
   "outputs": [
    {
     "name": "stdout",
     "output_type": "stream",
     "text": [
      "[0 0 0 1 1 0 0 0 1 1 1 1 0 0 1 0 1 1 0 1 0 0 0 0 0]\n"
     ]
    }
   ],
   "source": [
    "encoder = LabelEncoder()\n",
    "y_train = encoder.fit_transform(df_train[\"state\"].astype(\"str\"))\n",
    "y_test = encoder.transform(df_test[\"state\"].astype(\"str\"))\n",
    "print(y_train[:25])"
   ]
  },
  {
   "cell_type": "markdown",
   "metadata": {},
   "source": [
    "## Classification"
   ]
  },
  {
   "cell_type": "markdown",
   "metadata": {},
   "source": [
    "### Simple Logistical Regression Model"
   ]
  },
  {
   "cell_type": "markdown",
   "metadata": {},
   "source": [
    "Create a base model Simple Logical Regression model using the accuracy and confusion matrix metrics. Accuracy is the correctly classified samples divided by the total number of samples. A confusion matrix is used find why samples are predicted to be 'successful' or 'failed'. Only a diagonal in the matrix means that every prediction was correct."
   ]
  },
  {
   "cell_type": "markdown",
   "metadata": {},
   "source": [
    "### Null Model"
   ]
  },
  {
   "cell_type": "code",
   "execution_count": 44,
   "metadata": {},
   "outputs": [
    {
     "name": "stdout",
     "output_type": "stream",
     "text": [
      "(248756, 63)\n",
      "Base Accuracy: 0.5961239281708656\n",
      "Base Loss: 0.6751193913116632\n",
      "Base Labels: ['failed' 'successful']\n",
      "Base Confusion Matrix:\n",
      " [[49430     0]\n",
      " [33489     0]]\n",
      "Base Model MSE: 0.40387607182913443\n",
      "Base Model RMSE: 0.6355124482094229\n"
     ]
    }
   ],
   "source": [
    "print(df_train.shape)\n",
    "zeros_train = np.zeros(df_train.shape)\n",
    "zeros_test = np.zeros(df_test.shape)\n",
    "\n",
    "base_lr = SGDClassifier(max_iter=100,tol=1e-3, loss=\"log\")\n",
    "base_lr.fit(zeros_train, y_train)\n",
    "\n",
    "pred_base = base_lr.predict(zeros_test)\n",
    "pred_probability = base_lr.predict_proba(zeros_test)\n",
    "\n",
    "base_accuracy = accuracy_score(y_test, pred_base)\n",
    "base_loss = log_loss(y_test,pred_probability)\n",
    "cm = confusion_matrix(y_test, pred_base)\n",
    "\n",
    "print(\"Base Accuracy:\",base_accuracy)\n",
    "print(\"Base Loss:\", base_loss)\n",
    "print(\"Base Labels:\", encoder.classes_)\n",
    "print(\"Base Confusion Matrix:\\n\", cm)\n",
    "\n",
    "base_mse = mean_squared_error(y_test, pred_base)\n",
    "base_rmse = np.sqrt(base_mse)\n",
    "\n",
    "print(\"Base Model MSE:\", base_mse)\n",
    "print(\"Base Model RMSE:\", base_rmse)"
   ]
  },
  {
   "cell_type": "markdown",
   "metadata": {},
   "source": [
    "### Model using goal as selected variable"
   ]
  },
  {
   "cell_type": "code",
   "execution_count": 46,
   "metadata": {},
   "outputs": [
    {
     "name": "stdout",
     "output_type": "stream",
     "text": [
      "Goal Accuracy: 0.5961239281708656\n",
      "Goal Loss: 0.6595275615157336\n",
      "Goal Labels: ['failed' 'successful']\n",
      "Goal Confusion Matrix:\n",
      " [[49430     0]\n",
      " [33489     0]]\n",
      "Base Model MSE: 0.40387607182913443\n",
      "Base Model RMSE: 0.6355124482094229\n"
     ]
    },
    {
     "name": "stderr",
     "output_type": "stream",
     "text": [
      "c:\\python37\\lib\\site-packages\\sklearn\\linear_model\\base.py:297: RuntimeWarning: overflow encountered in exp\n",
      "  np.exp(prob, prob)\n"
     ]
    }
   ],
   "source": [
    "x_train = df_train[[\"usd_goal_real\"]].astype(\"float64\").values\n",
    "x_test =df_test[[\"usd_goal_real\"]].astype(\"float64\").values\n",
    "\n",
    "imputer = SimpleImputer()\n",
    "x_train = imputer.fit_transform(x_train)\n",
    "x_test = imputer.transform(x_test)\n",
    "scaler = StandardScaler()\n",
    "x_train = scaler.fit_transform(x_train)\n",
    "x_test = scaler.transform(x_test)\n",
    "\n",
    "simple_lr = SGDClassifier(max_iter=100,tol=1e-3, loss=\"log\")\n",
    "simple_lr.fit(x_train,y_train)\n",
    "pred_state = simple_lr.predict(x_test)\n",
    "pred_probability = simple_lr.predict_proba(x_test)\n",
    "\n",
    "null_acc = accuracy_score(y_test,pred_state)\n",
    "loss = log_loss(y_test, pred_probability)\n",
    "cm = confusion_matrix(y_test, pred_state)\n",
    "\n",
    "print(\"Goal Accuracy:\",null_acc)\n",
    "print(\"Goal Loss:\",loss)\n",
    "print(\"Goal Labels:\",encoder.classes_)\n",
    "print(\"Goal Confusion Matrix:\\n\",cm)\n",
    "base_mse = mean_squared_error(y_test, pred_state)\n",
    "base_rmse = np.sqrt(base_mse)\n",
    "\n",
    "print(\"Base Model MSE:\", base_mse)\n",
    "print(\"Base Model RMSE:\", base_rmse)"
   ]
  },
  {
   "cell_type": "markdown",
   "metadata": {},
   "source": [
    "### Greedy Algorithm Logistical Regression Model"
   ]
  },
  {
   "cell_type": "markdown",
   "metadata": {},
   "source": [
    "A greedy algorithm will identify and select the variables that will improve the fit model. Those variables can be used to create the best model to predict the success of a project."
   ]
  },
  {
   "cell_type": "code",
   "execution_count": 36,
   "metadata": {},
   "outputs": [
    {
     "data": {
      "text/plain": [
       "Index(['main_category', 'currency', 'deadline', 'launched', 'state', 'backers',\n",
       "       'country', 'usd_pledged_real', 'usd_goal_real', 'main_category_Art',\n",
       "       'main_category_Comics', 'main_category_Crafts', 'main_category_Dance',\n",
       "       'main_category_Design', 'main_category_Fashion',\n",
       "       'main_category_Film & Video', 'main_category_Food',\n",
       "       'main_category_Games', 'main_category_Journalism',\n",
       "       'main_category_Music', 'main_category_Photography',\n",
       "       'main_category_Publishing', 'main_category_Technology',\n",
       "       'main_category_Theater', 'currency_AUD'],\n",
       "      dtype='object')"
      ]
     },
     "execution_count": 36,
     "metadata": {},
     "output_type": "execute_result"
    }
   ],
   "source": [
    "dataDF.columns[:25]"
   ]
  },
  {
   "cell_type": "markdown",
   "metadata": {},
   "source": [
    "We want to select the sub categories in main_category, currency, and country for our greedy algorithm"
   ]
  },
  {
   "cell_type": "code",
   "execution_count": 37,
   "metadata": {},
   "outputs": [],
   "source": [
    "num_cols = [\"usd_goal_real\"]\n",
    "cat_cols = []\n",
    "\n",
    "for d in dummy_columns[\"main_category\"]:\n",
    "    cat_cols.append(d)\n",
    "for d in dummy_columns[\"currency\"]:\n",
    "    cat_cols.append(d)\n",
    "for d in dummy_columns[\"country\"]:\n",
    "    cat_cols.append(d)\n",
    "    \n",
    "cand_cols = num_cols + cat_cols"
   ]
  },
  {
   "cell_type": "code",
   "execution_count": 38,
   "metadata": {},
   "outputs": [],
   "source": [
    "def create_feature_matrices(df_train, df_test, selected_columns, dummy_columns):\n",
    "    \"\"\"\n",
    "    Creates feature matrices for the training and testing sets from the given dataframes.\n",
    "    The feature matrices are built from the columns given in selected columns.\n",
    "    \"\"\"\n",
    "    \n",
    "    # keep track of numerical features\n",
    "    numerical_trial_columns = []\n",
    "    \n",
    "    # keep track of dummy features for categorical variables\n",
    "    categorical_trial_columns = []\n",
    "    \n",
    "    # build feature lists\n",
    "    for col_name in selected_columns:\n",
    "        if col_name in dummy_columns:\n",
    "            categorical_trial_columns.extend(dummy_columns[col_name])\n",
    "        else:\n",
    "            numerical_trial_columns.append(col_name)\n",
    "\n",
    "    # transform numerical features\n",
    "    if len(numerical_trial_columns) > 0:\n",
    "        X_train_numerical = df_train[numerical_trial_columns].astype(\"float64\").values\n",
    "        X_test_numerical = df_test[numerical_trial_columns].astype(\"float64\").values\n",
    "    \n",
    "        imputer = SimpleImputer()\n",
    "        X_train_numerical = imputer.fit_transform(X_train_numerical)\n",
    "        X_test_numerical = imputer.transform(X_test_numerical)\n",
    "    \n",
    "        scaler = StandardScaler()\n",
    "        X_train_numerical = scaler.fit_transform(X_train_numerical)\n",
    "        X_test_numerical = scaler.transform(X_test_numerical)\n",
    "    \n",
    "    # select categorical features\n",
    "    if len(categorical_trial_columns) > 0:\n",
    "        X_train_categorical = df_train[categorical_trial_columns].astype(\"float64\").values\n",
    "        X_test_categorical = df_test[categorical_trial_columns].astype(\"float64\").values\n",
    "    \n",
    "    # concatenate feature matrices\n",
    "    if len(numerical_trial_columns) > 0 and len(categorical_trial_columns) > 0:\n",
    "        X_train = np.hstack([X_train_numerical, X_train_categorical])\n",
    "        X_test = np.hstack([X_test_numerical, X_test_categorical])\n",
    "    elif len(numerical_trial_columns) > 0:\n",
    "        X_train = X_train_numerical\n",
    "        X_test = X_test_numerical\n",
    "    else:\n",
    "        X_train = X_train_categorical\n",
    "        X_test = X_test_categorical\n",
    "        \n",
    "    return X_train, X_test"
   ]
  },
  {
   "cell_type": "code",
   "execution_count": 39,
   "metadata": {
    "scrolled": true
   },
   "outputs": [
    {
     "name": "stdout",
     "output_type": "stream",
     "text": [
      "Null Model Accuracy: 0.5961239281708656\n"
     ]
    },
    {
     "name": "stderr",
     "output_type": "stream",
     "text": [
      "c:\\python37\\lib\\site-packages\\sklearn\\linear_model\\base.py:297: RuntimeWarning: overflow encountered in exp\n",
      "  np.exp(prob, prob)\n"
     ]
    },
    {
     "name": "stdout",
     "output_type": "stream",
     "text": [
      "\n",
      "usd_goal_real Accuracy: 0.5961239281708656\n",
      "usd_goal_real Loss: 0.6572818516859502\n",
      "\n",
      "main_category_Art Accuracy: 0.5961239281708656\n",
      "main_category_Art Loss: 0.6743184704506154\n",
      "\n",
      "main_category_Comics Accuracy: 0.6015388511680073\n",
      "main_category_Comics Loss: 0.6727384393858815\n",
      "\n",
      "main_category_Crafts Accuracy: 0.5961239281708656\n",
      "main_category_Crafts Loss: 0.6737597045667091\n",
      "\n",
      "main_category_Dance Accuracy: 0.5995610173784054\n",
      "main_category_Dance Loss: 0.6734279680739661\n",
      "\n",
      "main_category_Design Accuracy: 0.5961239281708656\n",
      "main_category_Design Loss: 0.6762990957125038\n",
      "\n",
      "main_category_Fashion Accuracy: 0.5961239281708656\n",
      "main_category_Fashion Loss: 0.6729334202029501\n",
      "\n",
      "main_category_Film & Video Accuracy: 0.5961239281708656\n",
      "main_category_Film & Video Loss: 0.6748356408503393\n",
      "\n",
      "main_category_Food Accuracy: 0.5961239281708656\n",
      "main_category_Food Loss: 0.6728241175694707\n",
      "\n",
      "main_category_Games Accuracy: 0.5961239281708656\n",
      "main_category_Games Loss: 0.6751704584634467\n",
      "\n",
      "main_category_Journalism Accuracy: 0.5961239281708656\n",
      "main_category_Journalism Loss: 0.6748875651315077\n",
      "\n",
      "main_category_Music Accuracy: 0.6042764625719075\n",
      "main_category_Music Loss: 0.6720920959381446\n",
      "\n",
      "main_category_Photography Accuracy: 0.5961239281708656\n",
      "main_category_Photography Loss: 0.6749320127607809\n",
      "\n",
      "main_category_Publishing Accuracy: 0.5961239281708656\n",
      "main_category_Publishing Loss: 0.6745058904026742\n",
      "\n",
      "main_category_Technology Accuracy: 0.5961239281708656\n",
      "main_category_Technology Loss: 0.6687795643849841\n",
      "\n",
      "main_category_Theater Accuracy: 0.6044211821174882\n",
      "main_category_Theater Loss: 0.6712799072876773\n",
      "\n",
      "currency_AUD Accuracy: 0.5961239281708656\n",
      "currency_AUD Loss: 0.6746643307742598\n",
      "\n",
      "currency_CAD Accuracy: 0.5961239281708656\n",
      "currency_CAD Loss: 0.6745523083760486\n",
      "\n",
      "currency_CHF Accuracy: 0.5961239281708656\n",
      "currency_CHF Loss: 0.6746456805983027\n",
      "\n",
      "currency_DKK Accuracy: 0.5961239281708656\n",
      "currency_DKK Loss: 0.674561722251933\n",
      "\n",
      "currency_EUR Accuracy: 0.5961239281708656\n",
      "currency_EUR Loss: 0.6745700426558217\n",
      "\n",
      "currency_GBP Accuracy: 0.5961239281708656\n",
      "currency_GBP Loss: 0.6746885840093735\n",
      "\n",
      "currency_HKD Accuracy: 0.5961239281708656\n",
      "currency_HKD Loss: 0.6745694481955667\n",
      "\n",
      "currency_JPY Accuracy: 0.5961239281708656\n",
      "currency_JPY Loss: 0.6751974318176086\n",
      "\n",
      "currency_MXN Accuracy: 0.5961239281708656\n",
      "currency_MXN Loss: 0.6746041156985928\n",
      "\n",
      "currency_NOK Accuracy: 0.5961239281708656\n",
      "currency_NOK Loss: 0.6747307819267089\n",
      "\n",
      "currency_NZD Accuracy: 0.5961239281708656\n",
      "currency_NZD Loss: 0.6745767457076425\n",
      "\n",
      "currency_SEK Accuracy: 0.5961239281708656\n",
      "currency_SEK Loss: 0.675027010358924\n",
      "\n",
      "currency_SGD Accuracy: 0.5961239281708656\n",
      "currency_SGD Loss: 0.6745646548745727\n",
      "\n",
      "currency_USD Accuracy: 0.5961239281708656\n",
      "currency_USD Loss: 0.6748747133654412\n",
      "\n",
      "country_AT Accuracy: 0.5961239281708656\n",
      "country_AT Loss: 0.6745520135222374\n",
      "\n",
      "country_AU Accuracy: 0.5961239281708656\n",
      "country_AU Loss: 0.6746670432580408\n",
      "\n",
      "country_BE Accuracy: 0.5961239281708656\n",
      "country_BE Loss: 0.6763350418595474\n",
      "\n",
      "country_CA Accuracy: 0.5961239281708656\n",
      "country_CA Loss: 0.6748883195834918\n",
      "\n",
      "country_CH Accuracy: 0.5961239281708656\n",
      "country_CH Loss: 0.6745755626604297\n",
      "\n",
      "country_DE Accuracy: 0.5961239281708656\n",
      "country_DE Loss: 0.6747808060405877\n",
      "\n",
      "country_DK Accuracy: 0.5961239281708656\n",
      "country_DK Loss: 0.6758675706605898\n",
      "\n",
      "country_ES Accuracy: 0.5961239281708656\n",
      "country_ES Loss: 0.6757929613893799\n",
      "\n",
      "country_FR Accuracy: 0.5961239281708656\n",
      "country_FR Loss: 0.6750234349364046\n",
      "\n",
      "country_GB Accuracy: 0.5961239281708656\n",
      "country_GB Loss: 0.6746143348783962\n",
      "\n",
      "country_HK Accuracy: 0.5961239281708656\n",
      "country_HK Loss: 0.674554611684046\n",
      "\n",
      "country_IE Accuracy: 0.5961239281708656\n",
      "country_IE Loss: 0.6745885382338354\n",
      "\n",
      "country_IT Accuracy: 0.5961239281708656\n",
      "country_IT Loss: 0.6747741659008616\n",
      "\n",
      "country_JP Accuracy: 0.5961239281708656\n",
      "country_JP Loss: 0.6745978607653962\n",
      "\n",
      "country_LU Accuracy: 0.5961239281708656\n",
      "country_LU Loss: 0.6747362379977324\n",
      "\n",
      "country_MX Accuracy: 0.5961239281708656\n",
      "country_MX Loss: 0.6746883543927262\n",
      "\n",
      "country_N,0\" Accuracy: 0.5961239281708656\n",
      "country_N,0\" Loss: 0.6748829822279762\n",
      "\n",
      "country_NL Accuracy: 0.5961239281708656\n",
      "country_NL Loss: 0.6750853891014749\n",
      "\n",
      "country_NO Accuracy: 0.5961239281708656\n",
      "country_NO Loss: 0.6750257778056723\n",
      "\n",
      "country_NZ Accuracy: 0.5961239281708656\n",
      "country_NZ Loss: 0.6751958243692251\n",
      "\n",
      "country_SE Accuracy: 0.5961239281708656\n",
      "country_SE Loss: 0.6745720454746122\n",
      "\n",
      "country_SG Accuracy: 0.5961239281708656\n",
      "country_SG Loss: 0.6745526877861336\n",
      "\n",
      "country_US Accuracy: 0.5961239281708656\n",
      "country_US Loss: 0.6750590573697309\n",
      "\n",
      "Sorted columns:['main_category_Theater', 'main_category_Music', 'main_category_Comics', 'main_category_Dance', 'usd_goal_real', 'main_category_Art', 'main_category_Crafts', 'main_category_Design', 'main_category_Fashion', 'main_category_Film & Video', 'main_category_Food', 'main_category_Games', 'main_category_Journalism', 'main_category_Photography', 'main_category_Publishing', 'main_category_Technology', 'currency_AUD', 'currency_CAD', 'currency_CHF', 'currency_DKK', 'currency_EUR', 'currency_GBP', 'currency_HKD', 'currency_JPY', 'currency_MXN', 'currency_NOK', 'currency_NZD', 'currency_SEK', 'currency_SGD', 'currency_USD', 'country_AT', 'country_AU', 'country_BE', 'country_CA', 'country_CH', 'country_DE', 'country_DK', 'country_ES', 'country_FR', 'country_GB', 'country_HK', 'country_IE', 'country_IT', 'country_JP', 'country_LU', 'country_MX', 'country_N,0\"', 'country_NL', 'country_NO', 'country_NZ', 'country_SE', 'country_SG', 'country_US']\n"
     ]
    }
   ],
   "source": [
    "print(\"Null Model Accuracy:\", base_accuracy)\n",
    "\n",
    "col_accuracies = []\n",
    "for col in cand_cols:\n",
    "    x_train, x_test = create_feature_matrices(df_train,\n",
    "                                             df_test,\n",
    "                                             [col],\n",
    "                                             {})\n",
    "    \n",
    "    simple_lr = SGDClassifier(max_iter=10, tol=1e-3,loss=\"log\")\n",
    "    simple_lr.fit(x_train, y_train)\n",
    "    pred_state = simple_lr.predict(x_test)\n",
    "    pred_probability = simple_lr.predict_proba(x_test)\n",
    "    accuracy = accuracy_score(y_test, pred_state)\n",
    "    loss = log_loss(y_test, pred_probability)\n",
    "    print() \n",
    "    print(col + \" Accuracy:\", accuracy)\n",
    "    print(col + \" Loss:\", loss)\n",
    "    col_accuracies.append((accuracy, col))\n",
    "    \n",
    "col_accuracies.sort(key=lambda p: p[0], reverse=True)\n",
    "sorted_columns = [col for _, col in col_accuracies]\n",
    "print()\n",
    "print(\"Sorted columns:\" + str(sorted_columns))"
   ]
  },
  {
   "cell_type": "code",
   "execution_count": 40,
   "metadata": {},
   "outputs": [
    {
     "name": "stdout",
     "output_type": "stream",
     "text": [
      "Base Model Accuracy: 0.5961239281708656\n",
      "Base Model Loss: 0.6750590573697309\n",
      "\n",
      "\n",
      "['main_category_Theater'] Model Accuracy: 0.6044211821174882\n",
      "['main_category_Theater'] Model Loss: 0.6712610203228092\n",
      "Updating base model\n",
      "\n",
      "Base Model Loss: 0.6712610203228092\n",
      "Base Model Accuracy: 0.6044211821174882\n",
      "\n",
      "\n",
      "['main_category_Theater', 'main_category_Music'] Model Accuracy: 0.6125737165185301\n",
      "['main_category_Theater', 'main_category_Music'] Model Loss: 0.6657941124306445\n",
      "Updating base model\n",
      "\n",
      "Base Model Loss: 0.6657941124306445\n",
      "Base Model Accuracy: 0.6125737165185301\n",
      "\n",
      "\n",
      "['main_category_Theater', 'main_category_Music', 'main_category_Comics'] Model Accuracy: 0.617988639515672\n",
      "['main_category_Theater', 'main_category_Music', 'main_category_Comics'] Model Loss: 0.6646449822416902\n",
      "Updating base model\n",
      "\n",
      "Base Model Loss: 0.6646449822416902\n",
      "Base Model Accuracy: 0.617988639515672\n",
      "\n",
      "\n",
      "['main_category_Theater', 'main_category_Music', 'main_category_Comics', 'main_category_Dance'] Model Accuracy: 0.6132731943221699\n",
      "['main_category_Theater', 'main_category_Music', 'main_category_Comics', 'main_category_Dance'] Model Loss: 0.6623363347000052\n",
      "\n",
      "Base Model Loss: 0.6646449822416902\n",
      "Base Model Accuracy: 0.617988639515672\n",
      "\n"
     ]
    },
    {
     "name": "stderr",
     "output_type": "stream",
     "text": [
      "c:\\python37\\lib\\site-packages\\sklearn\\linear_model\\base.py:297: RuntimeWarning: overflow encountered in exp\n",
      "  np.exp(prob, prob)\n"
     ]
    },
    {
     "name": "stdout",
     "output_type": "stream",
     "text": [
      "\n",
      "['main_category_Theater', 'main_category_Music', 'main_category_Comics', 'usd_goal_real'] Model Accuracy: 0.6243080596726927\n",
      "['main_category_Theater', 'main_category_Music', 'main_category_Comics', 'usd_goal_real'] Model Loss: 0.6484621940640158\n",
      "Updating base model\n",
      "\n",
      "Base Model Loss: 0.6484621940640158\n",
      "Base Model Accuracy: 0.6243080596726927\n",
      "\n"
     ]
    },
    {
     "name": "stderr",
     "output_type": "stream",
     "text": [
      "c:\\python37\\lib\\site-packages\\sklearn\\linear_model\\base.py:297: RuntimeWarning: overflow encountered in exp\n",
      "  np.exp(prob, prob)\n"
     ]
    },
    {
     "name": "stdout",
     "output_type": "stream",
     "text": [
      "\n",
      "['main_category_Theater', 'main_category_Music', 'main_category_Comics', 'usd_goal_real', 'main_category_Art'] Model Accuracy: 0.6090401476139365\n",
      "['main_category_Theater', 'main_category_Music', 'main_category_Comics', 'usd_goal_real', 'main_category_Art'] Model Loss: 0.6503583361808952\n",
      "\n",
      "Base Model Loss: 0.6484621940640158\n",
      "Base Model Accuracy: 0.6243080596726927\n",
      "\n"
     ]
    },
    {
     "name": "stderr",
     "output_type": "stream",
     "text": [
      "c:\\python37\\lib\\site-packages\\sklearn\\linear_model\\base.py:297: RuntimeWarning: overflow encountered in exp\n",
      "  np.exp(prob, prob)\n"
     ]
    },
    {
     "name": "stdout",
     "output_type": "stream",
     "text": [
      "\n",
      "['main_category_Theater', 'main_category_Music', 'main_category_Comics', 'usd_goal_real', 'main_category_Crafts'] Model Accuracy: 0.6239221408844776\n",
      "['main_category_Theater', 'main_category_Music', 'main_category_Comics', 'usd_goal_real', 'main_category_Crafts'] Model Loss: 0.6475223197707314\n",
      "\n",
      "Base Model Loss: 0.6484621940640158\n",
      "Base Model Accuracy: 0.6243080596726927\n",
      "\n"
     ]
    },
    {
     "name": "stderr",
     "output_type": "stream",
     "text": [
      "c:\\python37\\lib\\site-packages\\sklearn\\linear_model\\base.py:297: RuntimeWarning: overflow encountered in exp\n",
      "  np.exp(prob, prob)\n"
     ]
    },
    {
     "name": "stdout",
     "output_type": "stream",
     "text": [
      "\n",
      "['main_category_Theater', 'main_category_Music', 'main_category_Comics', 'usd_goal_real', 'main_category_Design'] Model Accuracy: 0.625188436908308\n",
      "['main_category_Theater', 'main_category_Music', 'main_category_Comics', 'usd_goal_real', 'main_category_Design'] Model Loss: 0.6485165063562863\n",
      "Updating base model\n",
      "\n",
      "Base Model Loss: 0.6485165063562863\n",
      "Base Model Accuracy: 0.625188436908308\n",
      "\n"
     ]
    },
    {
     "name": "stderr",
     "output_type": "stream",
     "text": [
      "c:\\python37\\lib\\site-packages\\sklearn\\linear_model\\base.py:297: RuntimeWarning: overflow encountered in exp\n",
      "  np.exp(prob, prob)\n"
     ]
    },
    {
     "name": "stdout",
     "output_type": "stream",
     "text": [
      "\n",
      "['main_category_Theater', 'main_category_Music', 'main_category_Comics', 'usd_goal_real', 'main_category_Design', 'main_category_Fashion'] Model Accuracy: 0.6221252065268515\n",
      "['main_category_Theater', 'main_category_Music', 'main_category_Comics', 'usd_goal_real', 'main_category_Design', 'main_category_Fashion'] Model Loss: 0.6462831708690592\n",
      "\n",
      "Base Model Loss: 0.6485165063562863\n",
      "Base Model Accuracy: 0.625188436908308\n",
      "\n"
     ]
    },
    {
     "name": "stderr",
     "output_type": "stream",
     "text": [
      "c:\\python37\\lib\\site-packages\\sklearn\\linear_model\\base.py:297: RuntimeWarning: overflow encountered in exp\n",
      "  np.exp(prob, prob)\n"
     ]
    },
    {
     "name": "stdout",
     "output_type": "stream",
     "text": [
      "\n",
      "['main_category_Theater', 'main_category_Music', 'main_category_Comics', 'usd_goal_real', 'main_category_Design', 'main_category_Film & Video'] Model Accuracy: 0.6224749454286713\n",
      "['main_category_Theater', 'main_category_Music', 'main_category_Comics', 'usd_goal_real', 'main_category_Design', 'main_category_Film & Video'] Model Loss: 0.6453360034655949\n",
      "\n",
      "Base Model Loss: 0.6485165063562863\n",
      "Base Model Accuracy: 0.625188436908308\n",
      "\n"
     ]
    },
    {
     "name": "stderr",
     "output_type": "stream",
     "text": [
      "c:\\python37\\lib\\site-packages\\sklearn\\linear_model\\base.py:297: RuntimeWarning: overflow encountered in exp\n",
      "  np.exp(prob, prob)\n"
     ]
    },
    {
     "name": "stdout",
     "output_type": "stream",
     "text": [
      "\n",
      "['main_category_Theater', 'main_category_Music', 'main_category_Comics', 'usd_goal_real', 'main_category_Design', 'main_category_Food'] Model Accuracy: 0.6251522570219129\n",
      "['main_category_Theater', 'main_category_Music', 'main_category_Comics', 'usd_goal_real', 'main_category_Design', 'main_category_Food'] Model Loss: 0.6463017295089262\n",
      "\n",
      "Base Model Loss: 0.6485165063562863\n",
      "Base Model Accuracy: 0.625188436908308\n",
      "\n"
     ]
    },
    {
     "name": "stderr",
     "output_type": "stream",
     "text": [
      "c:\\python37\\lib\\site-packages\\sklearn\\linear_model\\base.py:297: RuntimeWarning: overflow encountered in exp\n",
      "  np.exp(prob, prob)\n"
     ]
    },
    {
     "name": "stdout",
     "output_type": "stream",
     "text": [
      "\n",
      "['main_category_Theater', 'main_category_Music', 'main_category_Comics', 'usd_goal_real', 'main_category_Design', 'main_category_Games'] Model Accuracy: 0.6212207093669726\n",
      "['main_category_Theater', 'main_category_Music', 'main_category_Comics', 'usd_goal_real', 'main_category_Design', 'main_category_Games'] Model Loss: 0.6477511058575207\n",
      "\n",
      "Base Model Loss: 0.6485165063562863\n",
      "Base Model Accuracy: 0.625188436908308\n",
      "\n"
     ]
    },
    {
     "name": "stderr",
     "output_type": "stream",
     "text": [
      "c:\\python37\\lib\\site-packages\\sklearn\\linear_model\\base.py:297: RuntimeWarning: overflow encountered in exp\n",
      "  np.exp(prob, prob)\n"
     ]
    },
    {
     "name": "stdout",
     "output_type": "stream",
     "text": [
      "\n",
      "['main_category_Theater', 'main_category_Music', 'main_category_Comics', 'usd_goal_real', 'main_category_Design', 'main_category_Journalism'] Model Accuracy: 0.622233746186037\n",
      "['main_category_Theater', 'main_category_Music', 'main_category_Comics', 'usd_goal_real', 'main_category_Design', 'main_category_Journalism'] Model Loss: 0.6472038711677333\n",
      "\n",
      "Base Model Loss: 0.6485165063562863\n",
      "Base Model Accuracy: 0.625188436908308\n",
      "\n"
     ]
    },
    {
     "name": "stderr",
     "output_type": "stream",
     "text": [
      "c:\\python37\\lib\\site-packages\\sklearn\\linear_model\\base.py:297: RuntimeWarning: overflow encountered in exp\n",
      "  np.exp(prob, prob)\n"
     ]
    },
    {
     "name": "stdout",
     "output_type": "stream",
     "text": [
      "\n",
      "['main_category_Theater', 'main_category_Music', 'main_category_Comics', 'usd_goal_real', 'main_category_Design', 'main_category_Photography'] Model Accuracy: 0.6229573439139401\n",
      "['main_category_Theater', 'main_category_Music', 'main_category_Comics', 'usd_goal_real', 'main_category_Design', 'main_category_Photography'] Model Loss: 0.6480967019016869\n",
      "\n",
      "Base Model Loss: 0.6485165063562863\n",
      "Base Model Accuracy: 0.625188436908308\n",
      "\n"
     ]
    },
    {
     "name": "stderr",
     "output_type": "stream",
     "text": [
      "c:\\python37\\lib\\site-packages\\sklearn\\linear_model\\base.py:297: RuntimeWarning: overflow encountered in exp\n",
      "  np.exp(prob, prob)\n"
     ]
    },
    {
     "name": "stdout",
     "output_type": "stream",
     "text": [
      "\n",
      "['main_category_Theater', 'main_category_Music', 'main_category_Comics', 'usd_goal_real', 'main_category_Design', 'main_category_Publishing'] Model Accuracy: 0.6251160771355178\n",
      "['main_category_Theater', 'main_category_Music', 'main_category_Comics', 'usd_goal_real', 'main_category_Design', 'main_category_Publishing'] Model Loss: 0.6485777931777865\n",
      "\n",
      "Base Model Loss: 0.6485165063562863\n",
      "Base Model Accuracy: 0.625188436908308\n",
      "\n"
     ]
    },
    {
     "name": "stderr",
     "output_type": "stream",
     "text": [
      "c:\\python37\\lib\\site-packages\\sklearn\\linear_model\\base.py:297: RuntimeWarning: overflow encountered in exp\n",
      "  np.exp(prob, prob)\n"
     ]
    },
    {
     "name": "stdout",
     "output_type": "stream",
     "text": [
      "\n",
      "['main_category_Theater', 'main_category_Music', 'main_category_Comics', 'usd_goal_real', 'main_category_Design', 'main_category_Technology'] Model Accuracy: 0.6265029727806655\n",
      "['main_category_Theater', 'main_category_Music', 'main_category_Comics', 'usd_goal_real', 'main_category_Design', 'main_category_Technology'] Model Loss: 0.645571469331655\n",
      "Updating base model\n",
      "\n",
      "Base Model Loss: 0.645571469331655\n",
      "Base Model Accuracy: 0.6265029727806655\n",
      "\n"
     ]
    },
    {
     "name": "stderr",
     "output_type": "stream",
     "text": [
      "c:\\python37\\lib\\site-packages\\sklearn\\linear_model\\base.py:297: RuntimeWarning: overflow encountered in exp\n",
      "  np.exp(prob, prob)\n"
     ]
    },
    {
     "name": "stdout",
     "output_type": "stream",
     "text": [
      "\n",
      "['main_category_Theater', 'main_category_Music', 'main_category_Comics', 'usd_goal_real', 'main_category_Design', 'main_category_Technology', 'currency_AUD'] Model Accuracy: 0.6220407867919294\n",
      "['main_category_Theater', 'main_category_Music', 'main_category_Comics', 'usd_goal_real', 'main_category_Design', 'main_category_Technology', 'currency_AUD'] Model Loss: 0.6460841968479702\n",
      "\n",
      "Base Model Loss: 0.645571469331655\n",
      "Base Model Accuracy: 0.6265029727806655\n",
      "\n"
     ]
    },
    {
     "name": "stderr",
     "output_type": "stream",
     "text": [
      "c:\\python37\\lib\\site-packages\\sklearn\\linear_model\\base.py:297: RuntimeWarning: overflow encountered in exp\n",
      "  np.exp(prob, prob)\n"
     ]
    },
    {
     "name": "stdout",
     "output_type": "stream",
     "text": [
      "\n",
      "['main_category_Theater', 'main_category_Music', 'main_category_Comics', 'usd_goal_real', 'main_category_Design', 'main_category_Technology', 'currency_CAD'] Model Accuracy: 0.6235844619447894\n",
      "['main_category_Theater', 'main_category_Music', 'main_category_Comics', 'usd_goal_real', 'main_category_Design', 'main_category_Technology', 'currency_CAD'] Model Loss: 0.645888213642282\n",
      "\n",
      "Base Model Loss: 0.645571469331655\n",
      "Base Model Accuracy: 0.6265029727806655\n",
      "\n"
     ]
    },
    {
     "name": "stderr",
     "output_type": "stream",
     "text": [
      "c:\\python37\\lib\\site-packages\\sklearn\\linear_model\\base.py:297: RuntimeWarning: overflow encountered in exp\n",
      "  np.exp(prob, prob)\n"
     ]
    },
    {
     "name": "stdout",
     "output_type": "stream",
     "text": [
      "\n",
      "['main_category_Theater', 'main_category_Music', 'main_category_Comics', 'usd_goal_real', 'main_category_Design', 'main_category_Technology', 'currency_CHF'] Model Accuracy: 0.6233794425885503\n",
      "['main_category_Theater', 'main_category_Music', 'main_category_Comics', 'usd_goal_real', 'main_category_Design', 'main_category_Technology', 'currency_CHF'] Model Loss: 0.6487179919643822\n",
      "\n",
      "Base Model Loss: 0.645571469331655\n",
      "Base Model Accuracy: 0.6265029727806655\n",
      "\n"
     ]
    },
    {
     "name": "stderr",
     "output_type": "stream",
     "text": [
      "c:\\python37\\lib\\site-packages\\sklearn\\linear_model\\base.py:297: RuntimeWarning: overflow encountered in exp\n",
      "  np.exp(prob, prob)\n"
     ]
    },
    {
     "name": "stdout",
     "output_type": "stream",
     "text": [
      "\n",
      "['main_category_Theater', 'main_category_Music', 'main_category_Comics', 'usd_goal_real', 'main_category_Design', 'main_category_Technology', 'currency_DKK'] Model Accuracy: 0.61060794269106\n",
      "['main_category_Theater', 'main_category_Music', 'main_category_Comics', 'usd_goal_real', 'main_category_Design', 'main_category_Technology', 'currency_DKK'] Model Loss: 0.6483496606669831\n",
      "\n",
      "Base Model Loss: 0.645571469331655\n",
      "Base Model Accuracy: 0.6265029727806655\n",
      "\n"
     ]
    },
    {
     "name": "stderr",
     "output_type": "stream",
     "text": [
      "c:\\python37\\lib\\site-packages\\sklearn\\linear_model\\base.py:297: RuntimeWarning: overflow encountered in exp\n",
      "  np.exp(prob, prob)\n"
     ]
    },
    {
     "name": "stdout",
     "output_type": "stream",
     "text": [
      "\n",
      "['main_category_Theater', 'main_category_Music', 'main_category_Comics', 'usd_goal_real', 'main_category_Design', 'main_category_Technology', 'currency_EUR'] Model Accuracy: 0.6221252065268515\n",
      "['main_category_Theater', 'main_category_Music', 'main_category_Comics', 'usd_goal_real', 'main_category_Design', 'main_category_Technology', 'currency_EUR'] Model Loss: 0.6474914149405359\n",
      "\n",
      "Base Model Loss: 0.645571469331655\n",
      "Base Model Accuracy: 0.6265029727806655\n",
      "\n"
     ]
    },
    {
     "name": "stderr",
     "output_type": "stream",
     "text": [
      "c:\\python37\\lib\\site-packages\\sklearn\\linear_model\\base.py:297: RuntimeWarning: overflow encountered in exp\n",
      "  np.exp(prob, prob)\n"
     ]
    },
    {
     "name": "stdout",
     "output_type": "stream",
     "text": [
      "\n",
      "['main_category_Theater', 'main_category_Music', 'main_category_Comics', 'usd_goal_real', 'main_category_Design', 'main_category_Technology', 'currency_GBP'] Model Accuracy: 0.6250316574005957\n",
      "['main_category_Theater', 'main_category_Music', 'main_category_Comics', 'usd_goal_real', 'main_category_Design', 'main_category_Technology', 'currency_GBP'] Model Loss: 0.64637756749124\n",
      "\n",
      "Base Model Loss: 0.645571469331655\n",
      "Base Model Accuracy: 0.6265029727806655\n",
      "\n"
     ]
    },
    {
     "name": "stderr",
     "output_type": "stream",
     "text": [
      "c:\\python37\\lib\\site-packages\\sklearn\\linear_model\\base.py:297: RuntimeWarning: overflow encountered in exp\n",
      "  np.exp(prob, prob)\n"
     ]
    },
    {
     "name": "stdout",
     "output_type": "stream",
     "text": [
      "\n",
      "['main_category_Theater', 'main_category_Music', 'main_category_Comics', 'usd_goal_real', 'main_category_Design', 'main_category_Technology', 'currency_HKD'] Model Accuracy: 0.6113677203053582\n",
      "['main_category_Theater', 'main_category_Music', 'main_category_Comics', 'usd_goal_real', 'main_category_Design', 'main_category_Technology', 'currency_HKD'] Model Loss: 0.646720292310597\n",
      "\n",
      "Base Model Loss: 0.645571469331655\n",
      "Base Model Accuracy: 0.6265029727806655\n",
      "\n"
     ]
    },
    {
     "name": "stderr",
     "output_type": "stream",
     "text": [
      "c:\\python37\\lib\\site-packages\\sklearn\\linear_model\\base.py:297: RuntimeWarning: overflow encountered in exp\n",
      "  np.exp(prob, prob)\n"
     ]
    },
    {
     "name": "stdout",
     "output_type": "stream",
     "text": [
      "\n",
      "['main_category_Theater', 'main_category_Music', 'main_category_Comics', 'usd_goal_real', 'main_category_Design', 'main_category_Technology', 'currency_JPY'] Model Accuracy: 0.6228126243683595\n",
      "['main_category_Theater', 'main_category_Music', 'main_category_Comics', 'usd_goal_real', 'main_category_Design', 'main_category_Technology', 'currency_JPY'] Model Loss: 0.6461973682410351\n",
      "\n",
      "Base Model Loss: 0.645571469331655\n",
      "Base Model Accuracy: 0.6265029727806655\n",
      "\n"
     ]
    },
    {
     "name": "stderr",
     "output_type": "stream",
     "text": [
      "c:\\python37\\lib\\site-packages\\sklearn\\linear_model\\base.py:297: RuntimeWarning: overflow encountered in exp\n",
      "  np.exp(prob, prob)\n"
     ]
    },
    {
     "name": "stdout",
     "output_type": "stream",
     "text": [
      "\n",
      "['main_category_Theater', 'main_category_Music', 'main_category_Comics', 'usd_goal_real', 'main_category_Design', 'main_category_Technology', 'currency_MXN'] Model Accuracy: 0.6175062410304032\n",
      "['main_category_Theater', 'main_category_Music', 'main_category_Comics', 'usd_goal_real', 'main_category_Design', 'main_category_Technology', 'currency_MXN'] Model Loss: 0.6486170972812556\n",
      "\n",
      "Base Model Loss: 0.645571469331655\n",
      "Base Model Accuracy: 0.6265029727806655\n",
      "\n"
     ]
    },
    {
     "name": "stderr",
     "output_type": "stream",
     "text": [
      "c:\\python37\\lib\\site-packages\\sklearn\\linear_model\\base.py:297: RuntimeWarning: overflow encountered in exp\n",
      "  np.exp(prob, prob)\n"
     ]
    },
    {
     "name": "stdout",
     "output_type": "stream",
     "text": [
      "\n",
      "['main_category_Theater', 'main_category_Music', 'main_category_Comics', 'usd_goal_real', 'main_category_Design', 'main_category_Technology', 'currency_NOK'] Model Accuracy: 0.6196529142898491\n",
      "['main_category_Theater', 'main_category_Music', 'main_category_Comics', 'usd_goal_real', 'main_category_Design', 'main_category_Technology', 'currency_NOK'] Model Loss: 0.6463777791805786\n",
      "\n",
      "Base Model Loss: 0.645571469331655\n",
      "Base Model Accuracy: 0.6265029727806655\n",
      "\n"
     ]
    },
    {
     "name": "stderr",
     "output_type": "stream",
     "text": [
      "c:\\python37\\lib\\site-packages\\sklearn\\linear_model\\base.py:297: RuntimeWarning: overflow encountered in exp\n",
      "  np.exp(prob, prob)\n"
     ]
    },
    {
     "name": "stdout",
     "output_type": "stream",
     "text": [
      "\n",
      "['main_category_Theater', 'main_category_Music', 'main_category_Comics', 'usd_goal_real', 'main_category_Design', 'main_category_Technology', 'currency_NZD'] Model Accuracy: 0.6246457386123807\n",
      "['main_category_Theater', 'main_category_Music', 'main_category_Comics', 'usd_goal_real', 'main_category_Design', 'main_category_Technology', 'currency_NZD'] Model Loss: 0.6468582678793819\n",
      "\n",
      "Base Model Loss: 0.645571469331655\n",
      "Base Model Accuracy: 0.6265029727806655\n",
      "\n"
     ]
    },
    {
     "name": "stderr",
     "output_type": "stream",
     "text": [
      "c:\\python37\\lib\\site-packages\\sklearn\\linear_model\\base.py:297: RuntimeWarning: overflow encountered in exp\n",
      "  np.exp(prob, prob)\n"
     ]
    },
    {
     "name": "stdout",
     "output_type": "stream",
     "text": [
      "\n",
      "['main_category_Theater', 'main_category_Music', 'main_category_Comics', 'usd_goal_real', 'main_category_Design', 'main_category_Technology', 'currency_SEK'] Model Accuracy: 0.622571425125725\n",
      "['main_category_Theater', 'main_category_Music', 'main_category_Comics', 'usd_goal_real', 'main_category_Design', 'main_category_Technology', 'currency_SEK'] Model Loss: 0.6456692098134538\n",
      "\n",
      "Base Model Loss: 0.645571469331655\n",
      "Base Model Accuracy: 0.6265029727806655\n",
      "\n"
     ]
    },
    {
     "name": "stderr",
     "output_type": "stream",
     "text": [
      "c:\\python37\\lib\\site-packages\\sklearn\\linear_model\\base.py:297: RuntimeWarning: overflow encountered in exp\n",
      "  np.exp(prob, prob)\n"
     ]
    },
    {
     "name": "stdout",
     "output_type": "stream",
     "text": [
      "\n",
      "['main_category_Theater', 'main_category_Music', 'main_category_Comics', 'usd_goal_real', 'main_category_Design', 'main_category_Technology', 'currency_SGD'] Model Accuracy: 0.6232106031187062\n",
      "['main_category_Theater', 'main_category_Music', 'main_category_Comics', 'usd_goal_real', 'main_category_Design', 'main_category_Technology', 'currency_SGD'] Model Loss: 0.6461138095416847\n",
      "\n",
      "Base Model Loss: 0.645571469331655\n",
      "Base Model Accuracy: 0.6265029727806655\n",
      "\n"
     ]
    },
    {
     "name": "stderr",
     "output_type": "stream",
     "text": [
      "c:\\python37\\lib\\site-packages\\sklearn\\linear_model\\base.py:297: RuntimeWarning: overflow encountered in exp\n",
      "  np.exp(prob, prob)\n"
     ]
    },
    {
     "name": "stdout",
     "output_type": "stream",
     "text": [
      "\n",
      "['main_category_Theater', 'main_category_Music', 'main_category_Comics', 'usd_goal_real', 'main_category_Design', 'main_category_Technology', 'currency_USD'] Model Accuracy: 0.6211483495941823\n",
      "['main_category_Theater', 'main_category_Music', 'main_category_Comics', 'usd_goal_real', 'main_category_Design', 'main_category_Technology', 'currency_USD'] Model Loss: 0.6478378896104313\n",
      "\n",
      "Base Model Loss: 0.645571469331655\n",
      "Base Model Accuracy: 0.6265029727806655\n",
      "\n"
     ]
    },
    {
     "name": "stderr",
     "output_type": "stream",
     "text": [
      "c:\\python37\\lib\\site-packages\\sklearn\\linear_model\\base.py:297: RuntimeWarning: overflow encountered in exp\n",
      "  np.exp(prob, prob)\n"
     ]
    },
    {
     "name": "stdout",
     "output_type": "stream",
     "text": [
      "\n",
      "['main_category_Theater', 'main_category_Music', 'main_category_Comics', 'usd_goal_real', 'main_category_Design', 'main_category_Technology', 'country_AT'] Model Accuracy: 0.6254055162266791\n",
      "['main_category_Theater', 'main_category_Music', 'main_category_Comics', 'usd_goal_real', 'main_category_Design', 'main_category_Technology', 'country_AT'] Model Loss: 0.6462352365938454\n",
      "\n",
      "Base Model Loss: 0.645571469331655\n",
      "Base Model Accuracy: 0.6265029727806655\n",
      "\n"
     ]
    },
    {
     "name": "stderr",
     "output_type": "stream",
     "text": [
      "c:\\python37\\lib\\site-packages\\sklearn\\linear_model\\base.py:297: RuntimeWarning: overflow encountered in exp\n",
      "  np.exp(prob, prob)\n"
     ]
    },
    {
     "name": "stdout",
     "output_type": "stream",
     "text": [
      "\n",
      "['main_category_Theater', 'main_category_Music', 'main_category_Comics', 'usd_goal_real', 'main_category_Design', 'main_category_Technology', 'country_AU'] Model Accuracy: 0.6221855063375101\n",
      "['main_category_Theater', 'main_category_Music', 'main_category_Comics', 'usd_goal_real', 'main_category_Design', 'main_category_Technology', 'country_AU'] Model Loss: 0.646130903109343\n",
      "\n",
      "Base Model Loss: 0.645571469331655\n",
      "Base Model Accuracy: 0.6265029727806655\n",
      "\n"
     ]
    },
    {
     "name": "stderr",
     "output_type": "stream",
     "text": [
      "c:\\python37\\lib\\site-packages\\sklearn\\linear_model\\base.py:297: RuntimeWarning: overflow encountered in exp\n",
      "  np.exp(prob, prob)\n"
     ]
    },
    {
     "name": "stdout",
     "output_type": "stream",
     "text": [
      "\n",
      "['main_category_Theater', 'main_category_Music', 'main_category_Comics', 'usd_goal_real', 'main_category_Design', 'main_category_Technology', 'country_BE'] Model Accuracy: 0.6244286592940098\n",
      "['main_category_Theater', 'main_category_Music', 'main_category_Comics', 'usd_goal_real', 'main_category_Design', 'main_category_Technology', 'country_BE'] Model Loss: 0.6473816290087206\n",
      "\n",
      "Base Model Loss: 0.645571469331655\n",
      "Base Model Accuracy: 0.6265029727806655\n",
      "\n"
     ]
    },
    {
     "name": "stderr",
     "output_type": "stream",
     "text": [
      "c:\\python37\\lib\\site-packages\\sklearn\\linear_model\\base.py:297: RuntimeWarning: overflow encountered in exp\n",
      "  np.exp(prob, prob)\n"
     ]
    },
    {
     "name": "stdout",
     "output_type": "stream",
     "text": [
      "\n",
      "['main_category_Theater', 'main_category_Music', 'main_category_Comics', 'usd_goal_real', 'main_category_Design', 'main_category_Technology', 'country_CA'] Model Accuracy: 0.6218357674356902\n",
      "['main_category_Theater', 'main_category_Music', 'main_category_Comics', 'usd_goal_real', 'main_category_Design', 'main_category_Technology', 'country_CA'] Model Loss: 0.6470950266620701\n",
      "\n",
      "Base Model Loss: 0.645571469331655\n",
      "Base Model Accuracy: 0.6265029727806655\n",
      "\n"
     ]
    },
    {
     "name": "stderr",
     "output_type": "stream",
     "text": [
      "c:\\python37\\lib\\site-packages\\sklearn\\linear_model\\base.py:297: RuntimeWarning: overflow encountered in exp\n",
      "  np.exp(prob, prob)\n"
     ]
    },
    {
     "name": "stdout",
     "output_type": "stream",
     "text": [
      "\n",
      "['main_category_Theater', 'main_category_Music', 'main_category_Comics', 'usd_goal_real', 'main_category_Design', 'main_category_Technology', 'country_CH'] Model Accuracy: 0.624935177703542\n",
      "['main_category_Theater', 'main_category_Music', 'main_category_Comics', 'usd_goal_real', 'main_category_Design', 'main_category_Technology', 'country_CH'] Model Loss: 0.6458882257799338\n",
      "\n",
      "Base Model Loss: 0.645571469331655\n",
      "Base Model Accuracy: 0.6265029727806655\n",
      "\n"
     ]
    },
    {
     "name": "stderr",
     "output_type": "stream",
     "text": [
      "c:\\python37\\lib\\site-packages\\sklearn\\linear_model\\base.py:297: RuntimeWarning: overflow encountered in exp\n",
      "  np.exp(prob, prob)\n"
     ]
    },
    {
     "name": "stdout",
     "output_type": "stream",
     "text": [
      "\n",
      "['main_category_Theater', 'main_category_Music', 'main_category_Comics', 'usd_goal_real', 'main_category_Design', 'main_category_Technology', 'country_DE'] Model Accuracy: 0.6221613864132467\n",
      "['main_category_Theater', 'main_category_Music', 'main_category_Comics', 'usd_goal_real', 'main_category_Design', 'main_category_Technology', 'country_DE'] Model Loss: 0.6460635935085723\n",
      "\n",
      "Base Model Loss: 0.645571469331655\n",
      "Base Model Accuracy: 0.6265029727806655\n",
      "\n"
     ]
    },
    {
     "name": "stderr",
     "output_type": "stream",
     "text": [
      "c:\\python37\\lib\\site-packages\\sklearn\\linear_model\\base.py:297: RuntimeWarning: overflow encountered in exp\n",
      "  np.exp(prob, prob)\n"
     ]
    },
    {
     "name": "stdout",
     "output_type": "stream",
     "text": [
      "\n",
      "['main_category_Theater', 'main_category_Music', 'main_category_Comics', 'usd_goal_real', 'main_category_Design', 'main_category_Technology', 'country_DK'] Model Accuracy: 0.6127184360641108\n",
      "['main_category_Theater', 'main_category_Music', 'main_category_Comics', 'usd_goal_real', 'main_category_Design', 'main_category_Technology', 'country_DK'] Model Loss: 0.649466168083391\n",
      "\n",
      "Base Model Loss: 0.645571469331655\n",
      "Base Model Accuracy: 0.6265029727806655\n",
      "\n"
     ]
    },
    {
     "name": "stderr",
     "output_type": "stream",
     "text": [
      "c:\\python37\\lib\\site-packages\\sklearn\\linear_model\\base.py:297: RuntimeWarning: overflow encountered in exp\n",
      "  np.exp(prob, prob)\n"
     ]
    },
    {
     "name": "stdout",
     "output_type": "stream",
     "text": [
      "\n",
      "['main_category_Theater', 'main_category_Music', 'main_category_Comics', 'usd_goal_real', 'main_category_Design', 'main_category_Technology', 'country_ES'] Model Accuracy: 0.6209071503515479\n",
      "['main_category_Theater', 'main_category_Music', 'main_category_Comics', 'usd_goal_real', 'main_category_Design', 'main_category_Technology', 'country_ES'] Model Loss: 0.6472914965469062\n",
      "\n",
      "Base Model Loss: 0.645571469331655\n",
      "Base Model Accuracy: 0.6265029727806655\n",
      "\n"
     ]
    },
    {
     "name": "stderr",
     "output_type": "stream",
     "text": [
      "c:\\python37\\lib\\site-packages\\sklearn\\linear_model\\base.py:297: RuntimeWarning: overflow encountered in exp\n",
      "  np.exp(prob, prob)\n"
     ]
    },
    {
     "name": "stdout",
     "output_type": "stream",
     "text": [
      "\n",
      "['main_category_Theater', 'main_category_Music', 'main_category_Comics', 'usd_goal_real', 'main_category_Design', 'main_category_Technology', 'country_FR'] Model Accuracy: 0.6170238425451344\n",
      "['main_category_Theater', 'main_category_Music', 'main_category_Comics', 'usd_goal_real', 'main_category_Design', 'main_category_Technology', 'country_FR'] Model Loss: 0.648195610148326\n",
      "\n",
      "Base Model Loss: 0.645571469331655\n",
      "Base Model Accuracy: 0.6265029727806655\n",
      "\n"
     ]
    },
    {
     "name": "stderr",
     "output_type": "stream",
     "text": [
      "c:\\python37\\lib\\site-packages\\sklearn\\linear_model\\base.py:297: RuntimeWarning: overflow encountered in exp\n",
      "  np.exp(prob, prob)\n"
     ]
    },
    {
     "name": "stdout",
     "output_type": "stream",
     "text": [
      "\n",
      "['main_category_Theater', 'main_category_Music', 'main_category_Comics', 'usd_goal_real', 'main_category_Design', 'main_category_Technology', 'country_GB'] Model Accuracy: 0.6240909803543216\n",
      "['main_category_Theater', 'main_category_Music', 'main_category_Comics', 'usd_goal_real', 'main_category_Design', 'main_category_Technology', 'country_GB'] Model Loss: 0.6459102838485361\n",
      "\n",
      "Base Model Loss: 0.645571469331655\n",
      "Base Model Accuracy: 0.6265029727806655\n",
      "\n"
     ]
    },
    {
     "name": "stderr",
     "output_type": "stream",
     "text": [
      "c:\\python37\\lib\\site-packages\\sklearn\\linear_model\\base.py:297: RuntimeWarning: overflow encountered in exp\n",
      "  np.exp(prob, prob)\n"
     ]
    },
    {
     "name": "stdout",
     "output_type": "stream",
     "text": [
      "\n",
      "['main_category_Theater', 'main_category_Music', 'main_category_Comics', 'usd_goal_real', 'main_category_Design', 'main_category_Technology', 'country_HK'] Model Accuracy: 0.6250798972491226\n",
      "['main_category_Theater', 'main_category_Music', 'main_category_Comics', 'usd_goal_real', 'main_category_Design', 'main_category_Technology', 'country_HK'] Model Loss: 0.645524751058172\n",
      "\n",
      "Base Model Loss: 0.645571469331655\n",
      "Base Model Accuracy: 0.6265029727806655\n",
      "\n"
     ]
    },
    {
     "name": "stderr",
     "output_type": "stream",
     "text": [
      "c:\\python37\\lib\\site-packages\\sklearn\\linear_model\\base.py:297: RuntimeWarning: overflow encountered in exp\n",
      "  np.exp(prob, prob)\n"
     ]
    },
    {
     "name": "stdout",
     "output_type": "stream",
     "text": [
      "\n",
      "['main_category_Theater', 'main_category_Music', 'main_category_Comics', 'usd_goal_real', 'main_category_Design', 'main_category_Technology', 'country_IE'] Model Accuracy: 0.6229091040654132\n",
      "['main_category_Theater', 'main_category_Music', 'main_category_Comics', 'usd_goal_real', 'main_category_Design', 'main_category_Technology', 'country_IE'] Model Loss: 0.6462542051113482\n",
      "\n",
      "Base Model Loss: 0.645571469331655\n",
      "Base Model Accuracy: 0.6265029727806655\n",
      "\n"
     ]
    },
    {
     "name": "stderr",
     "output_type": "stream",
     "text": [
      "c:\\python37\\lib\\site-packages\\sklearn\\linear_model\\base.py:297: RuntimeWarning: overflow encountered in exp\n",
      "  np.exp(prob, prob)\n"
     ]
    },
    {
     "name": "stdout",
     "output_type": "stream",
     "text": [
      "\n",
      "['main_category_Theater', 'main_category_Music', 'main_category_Comics', 'usd_goal_real', 'main_category_Design', 'main_category_Technology', 'country_IT'] Model Accuracy: 0.6230538236109938\n",
      "['main_category_Theater', 'main_category_Music', 'main_category_Comics', 'usd_goal_real', 'main_category_Design', 'main_category_Technology', 'country_IT'] Model Loss: 0.6460630486797021\n",
      "\n",
      "Base Model Loss: 0.645571469331655\n",
      "Base Model Accuracy: 0.6265029727806655\n",
      "\n"
     ]
    },
    {
     "name": "stderr",
     "output_type": "stream",
     "text": [
      "c:\\python37\\lib\\site-packages\\sklearn\\linear_model\\base.py:297: RuntimeWarning: overflow encountered in exp\n",
      "  np.exp(prob, prob)\n"
     ]
    },
    {
     "name": "stdout",
     "output_type": "stream",
     "text": [
      "\n",
      "['main_category_Theater', 'main_category_Music', 'main_category_Comics', 'usd_goal_real', 'main_category_Design', 'main_category_Technology', 'country_JP'] Model Accuracy: 0.6106682425017186\n",
      "['main_category_Theater', 'main_category_Music', 'main_category_Comics', 'usd_goal_real', 'main_category_Design', 'main_category_Technology', 'country_JP'] Model Loss: 0.6458846104174618\n",
      "\n",
      "Base Model Loss: 0.645571469331655\n",
      "Base Model Accuracy: 0.6265029727806655\n",
      "\n"
     ]
    },
    {
     "name": "stderr",
     "output_type": "stream",
     "text": [
      "c:\\python37\\lib\\site-packages\\sklearn\\linear_model\\base.py:297: RuntimeWarning: overflow encountered in exp\n",
      "  np.exp(prob, prob)\n"
     ]
    },
    {
     "name": "stdout",
     "output_type": "stream",
     "text": [
      "\n",
      "['main_category_Theater', 'main_category_Music', 'main_category_Comics', 'usd_goal_real', 'main_category_Design', 'main_category_Technology', 'country_LU'] Model Accuracy: 0.6094260664021515\n",
      "['main_category_Theater', 'main_category_Music', 'main_category_Comics', 'usd_goal_real', 'main_category_Design', 'main_category_Technology', 'country_LU'] Model Loss: 0.6480081865207848\n",
      "\n",
      "Base Model Loss: 0.645571469331655\n",
      "Base Model Accuracy: 0.6265029727806655\n",
      "\n"
     ]
    },
    {
     "name": "stderr",
     "output_type": "stream",
     "text": [
      "c:\\python37\\lib\\site-packages\\sklearn\\linear_model\\base.py:297: RuntimeWarning: overflow encountered in exp\n",
      "  np.exp(prob, prob)\n"
     ]
    },
    {
     "name": "stdout",
     "output_type": "stream",
     "text": [
      "\n",
      "['main_category_Theater', 'main_category_Music', 'main_category_Comics', 'usd_goal_real', 'main_category_Design', 'main_category_Technology', 'country_MX'] Model Accuracy: 0.6230297036867304\n",
      "['main_category_Theater', 'main_category_Music', 'main_category_Comics', 'usd_goal_real', 'main_category_Design', 'main_category_Technology', 'country_MX'] Model Loss: 0.6459864141228303\n",
      "\n",
      "Base Model Loss: 0.645571469331655\n",
      "Base Model Accuracy: 0.6265029727806655\n",
      "\n"
     ]
    },
    {
     "name": "stderr",
     "output_type": "stream",
     "text": [
      "c:\\python37\\lib\\site-packages\\sklearn\\linear_model\\base.py:297: RuntimeWarning: overflow encountered in exp\n",
      "  np.exp(prob, prob)\n"
     ]
    },
    {
     "name": "stdout",
     "output_type": "stream",
     "text": [
      "\n",
      "['main_category_Theater', 'main_category_Music', 'main_category_Comics', 'usd_goal_real', 'main_category_Design', 'main_category_Technology', 'country_N,0\"'] Model Accuracy: 0.625236676756835\n",
      "['main_category_Theater', 'main_category_Music', 'main_category_Comics', 'usd_goal_real', 'main_category_Design', 'main_category_Technology', 'country_N,0\"'] Model Loss: 0.6454318723852741\n",
      "\n",
      "Base Model Loss: 0.645571469331655\n",
      "Base Model Accuracy: 0.6265029727806655\n",
      "\n"
     ]
    },
    {
     "name": "stderr",
     "output_type": "stream",
     "text": [
      "c:\\python37\\lib\\site-packages\\sklearn\\linear_model\\base.py:297: RuntimeWarning: overflow encountered in exp\n",
      "  np.exp(prob, prob)\n"
     ]
    },
    {
     "name": "stdout",
     "output_type": "stream",
     "text": [
      "\n",
      "['main_category_Theater', 'main_category_Music', 'main_category_Comics', 'usd_goal_real', 'main_category_Design', 'main_category_Technology', 'country_NL'] Model Accuracy: 0.6247422183094345\n",
      "['main_category_Theater', 'main_category_Music', 'main_category_Comics', 'usd_goal_real', 'main_category_Design', 'main_category_Technology', 'country_NL'] Model Loss: 0.6470777456661932\n",
      "\n",
      "Base Model Loss: 0.645571469331655\n",
      "Base Model Accuracy: 0.6265029727806655\n",
      "\n"
     ]
    },
    {
     "name": "stderr",
     "output_type": "stream",
     "text": [
      "c:\\python37\\lib\\site-packages\\sklearn\\linear_model\\base.py:297: RuntimeWarning: overflow encountered in exp\n",
      "  np.exp(prob, prob)\n"
     ]
    },
    {
     "name": "stdout",
     "output_type": "stream",
     "text": [
      "\n",
      "['main_category_Theater', 'main_category_Music', 'main_category_Comics', 'usd_goal_real', 'main_category_Design', 'main_category_Technology', 'country_NO'] Model Accuracy: 0.6220890266404564\n",
      "['main_category_Theater', 'main_category_Music', 'main_category_Comics', 'usd_goal_real', 'main_category_Design', 'main_category_Technology', 'country_NO'] Model Loss: 0.6459392985830973\n",
      "\n",
      "Base Model Loss: 0.645571469331655\n",
      "Base Model Accuracy: 0.6265029727806655\n",
      "\n"
     ]
    },
    {
     "name": "stderr",
     "output_type": "stream",
     "text": [
      "c:\\python37\\lib\\site-packages\\sklearn\\linear_model\\base.py:297: RuntimeWarning: overflow encountered in exp\n",
      "  np.exp(prob, prob)\n"
     ]
    },
    {
     "name": "stdout",
     "output_type": "stream",
     "text": [
      "\n",
      "['main_category_Theater', 'main_category_Music', 'main_category_Comics', 'usd_goal_real', 'main_category_Design', 'main_category_Technology', 'country_NZ'] Model Accuracy: 0.6208468505408893\n",
      "['main_category_Theater', 'main_category_Music', 'main_category_Comics', 'usd_goal_real', 'main_category_Design', 'main_category_Technology', 'country_NZ'] Model Loss: 0.6463197885208638\n",
      "\n",
      "Base Model Loss: 0.645571469331655\n",
      "Base Model Accuracy: 0.6265029727806655\n",
      "\n"
     ]
    },
    {
     "name": "stderr",
     "output_type": "stream",
     "text": [
      "c:\\python37\\lib\\site-packages\\sklearn\\linear_model\\base.py:297: RuntimeWarning: overflow encountered in exp\n",
      "  np.exp(prob, prob)\n"
     ]
    },
    {
     "name": "stdout",
     "output_type": "stream",
     "text": [
      "\n",
      "['main_category_Theater', 'main_category_Music', 'main_category_Comics', 'usd_goal_real', 'main_category_Design', 'main_category_Technology', 'country_SE'] Model Accuracy: 0.6247783981958297\n",
      "['main_category_Theater', 'main_category_Music', 'main_category_Comics', 'usd_goal_real', 'main_category_Design', 'main_category_Technology', 'country_SE'] Model Loss: 0.6472742503206906\n",
      "\n",
      "Base Model Loss: 0.645571469331655\n",
      "Base Model Accuracy: 0.6265029727806655\n",
      "\n"
     ]
    },
    {
     "name": "stderr",
     "output_type": "stream",
     "text": [
      "c:\\python37\\lib\\site-packages\\sklearn\\linear_model\\base.py:297: RuntimeWarning: overflow encountered in exp\n",
      "  np.exp(prob, prob)\n"
     ]
    },
    {
     "name": "stdout",
     "output_type": "stream",
     "text": [
      "\n",
      "['main_category_Theater', 'main_category_Music', 'main_category_Comics', 'usd_goal_real', 'main_category_Design', 'main_category_Technology', 'country_SG'] Model Accuracy: 0.6220528467540611\n",
      "['main_category_Theater', 'main_category_Music', 'main_category_Comics', 'usd_goal_real', 'main_category_Design', 'main_category_Technology', 'country_SG'] Model Loss: 0.6456809772056024\n",
      "\n",
      "Base Model Loss: 0.645571469331655\n",
      "Base Model Accuracy: 0.6265029727806655\n",
      "\n",
      "\n",
      "['main_category_Theater', 'main_category_Music', 'main_category_Comics', 'usd_goal_real', 'main_category_Design', 'main_category_Technology', 'country_US'] Model Accuracy: 0.6235965219069212\n",
      "['main_category_Theater', 'main_category_Music', 'main_category_Comics', 'usd_goal_real', 'main_category_Design', 'main_category_Technology', 'country_US'] Model Loss: 0.6467553784483523\n",
      "\n",
      "Base Model Loss: 0.645571469331655\n",
      "Base Model Accuracy: 0.6265029727806655\n",
      "\n",
      "Our chosen columns are: ['main_category_Theater', 'main_category_Music', 'main_category_Comics', 'usd_goal_real', 'main_category_Design', 'main_category_Technology']\n"
     ]
    },
    {
     "name": "stderr",
     "output_type": "stream",
     "text": [
      "c:\\python37\\lib\\site-packages\\sklearn\\linear_model\\base.py:297: RuntimeWarning: overflow encountered in exp\n",
      "  np.exp(prob, prob)\n"
     ]
    }
   ],
   "source": [
    "base_model_columns = []\n",
    "base_loss = loss\n",
    "base_accuracy = null_acc\n",
    "\n",
    "print(\"Base Model Accuracy:\", base_accuracy)\n",
    "print(\"Base Model Loss:\", base_loss)\n",
    "print()\n",
    "\n",
    "for col_name in sorted_columns:\n",
    "    # track all column names\n",
    "    trial_columns = base_model_columns[:]\n",
    "    trial_columns.append(col_name)\n",
    "\n",
    "    X_train, X_test = create_feature_matrices(df_train,\n",
    "                                             df_test,\n",
    "                                             trial_columns,\n",
    "                                             {})\n",
    "    \n",
    "    trial_lr = SGDClassifier(max_iter=50,tol=1e-3, loss=\"log\", penalty=\"l2\")\n",
    "    trial_lr.fit(X_train, y_train)\n",
    "    pred_labels = trial_lr.predict(X_test)\n",
    "    pred_prob = trial_lr.predict_proba(X_test)\n",
    "    trial_accuracy = accuracy_score(y_test, pred_labels)\n",
    "    trial_loss = log_loss(y_test, pred_prob)\n",
    "    print()\n",
    "    print(str(trial_columns) + \" Model Accuracy:\", trial_accuracy)\n",
    "    print(str(trial_columns) + \" Model Loss:\", trial_loss)\n",
    "\n",
    "    if trial_accuracy > base_accuracy:\n",
    "        print(\"Updating base model\")\n",
    "        base_loss = trial_loss\n",
    "        base_model_columns = trial_columns\n",
    "        base_accuracy = trial_accuracy\n",
    "    print()\n",
    "    print(\"Base Model Loss:\", base_loss)\n",
    "    print(\"Base Model Accuracy:\", base_accuracy)\n",
    "    print()\n",
    "    \n",
    "print(\"Our chosen columns are: \" + str(base_model_columns))"
   ]
  },
  {
   "cell_type": "code",
   "execution_count": 47,
   "metadata": {},
   "outputs": [
    {
     "name": "stdout",
     "output_type": "stream",
     "text": [
      "\n",
      "Greedy Model Accuracy: 0.6247060384230394\n",
      "Greedy Labels: ['failed' 'successful']\n",
      "Greedy Confusion matrix:\n",
      "[[43097  6333]\n",
      " [24786  8703]]\n",
      "Greedy Model MSE: 0.37529396157696066\n",
      "Greedy Model RMSE: 0.6126124072992324\n"
     ]
    }
   ],
   "source": [
    "X_train, X_test = create_feature_matrices(df_train,\n",
    "                                          df_test,\n",
    "                                          base_model_columns,\n",
    "                                          {})\n",
    "    \n",
    "lr_greedy = SGDClassifier(max_iter=100, tol=1e-3, loss=\"log\")\n",
    "lr_greedy.fit(X_train, y_train)\n",
    "pred_state_greedy = lr_greedy.predict(X_test)\n",
    "trial_accuracy = accuracy_score(y_test, pred_state_greedy)\n",
    "cm = confusion_matrix(y_test, pred_state_greedy)\n",
    "print()\n",
    "print(\"Greedy Model Accuracy:\", trial_accuracy)\n",
    "print(\"Greedy Labels:\", encoder.classes_)\n",
    "print(\"Greedy Confusion matrix:\")\n",
    "print(cm)\n",
    "mse = mean_squared_error(y_test, pred_state_greedy)\n",
    "rmse = np.sqrt(mse)\n",
    "\n",
    "print(\"Greedy Model MSE:\", mse)\n",
    "print(\"Greedy Model RMSE:\", rmse)"
   ]
  },
  {
   "cell_type": "code",
   "execution_count": 42,
   "metadata": {},
   "outputs": [
    {
     "name": "stderr",
     "output_type": "stream",
     "text": [
      "c:\\python37\\lib\\site-packages\\sklearn\\linear_model\\base.py:297: RuntimeWarning: overflow encountered in exp\n",
      "  np.exp(prob, prob)\n"
     ]
    },
    {
     "data": {
      "text/plain": [
       "Text(0, 0.5, 'True Positive Rate')"
      ]
     },
     "execution_count": 42,
     "metadata": {},
     "output_type": "execute_result"
    },
    {
     "data": {
      "image/png": "[encoded data removed]",
      "text/plain": [
       "<Figure size 432x288 with 1 Axes>"
      ]
     },
     "metadata": {
      "needs_background": "light"
     },
     "output_type": "display_data"
    }
   ],
   "source": [
    "from sklearn.metrics import roc_curve\n",
    "\n",
    "pred_proba = lr_greedy.predict_proba(X_test)\n",
    "\n",
    "# turn multiclass problem into binary problem\n",
    "pred_proba_1 = 1.0 - pred_proba[:, 0]\n",
    "y_test_1 = [0 if y == 0 else 1 for y in y_test]\n",
    "\n",
    "fpr, tpr, _ = roc_curve(y_test_1, pred_proba_1)\n",
    "\n",
    "plt.plot(fpr, tpr)\n",
    "plt.plot([0.0, 1.0], [0.0, 1.0])\n",
    "plt.xlabel(\"False Positive Rate\", fontsize=16)\n",
    "plt.ylabel(\"True Positive Rate\", fontsize=16)"
   ]
  },
  {
   "cell_type": "markdown",
   "metadata": {},
   "source": [
    "In the hypothesis it was believed that the projects goal and its main categories would be an indicator for a projects success. However, there was no difference beteen the RMSE for the null model and the model using the goal as the select variable. There was a small difference in the RMSE between null model and greedy model, but not enough to reject the null model. Therefore, neither goal amount or category type are a clear enough indicator for a project's success."
   ]
  }
 ],
 "metadata": {
  "kernelspec": {
   "display_name": "Python 3",
   "language": "python",
   "name": "python3"
  },
  "language_info": {
   "codemirror_mode": {
    "name": "ipython",
    "version": 3
   },
   "file_extension": ".py",
   "mimetype": "text/x-python",
   "name": "python",
   "nbconvert_exporter": "python",
   "pygments_lexer": "ipython3",
   "version": "3.7.4"
  }
 },
 "nbformat": 4,
 "nbformat_minor": 2
}
